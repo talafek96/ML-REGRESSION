{
  "nbformat": 4,
  "nbformat_minor": 0,
  "metadata": {
    "colab": {
      "name": "Major_HW3.ipynb",
      "provenance": [],
      "collapsed_sections": []
    },
    "kernelspec": {
      "name": "python3",
      "display_name": "Python 3"
    }
  },
  "cells": [
    {
      "cell_type": "markdown",
      "metadata": {
        "id": "AaWOEIUIMac-"
      },
      "source": [
        "#**<u>HW3 - Regression</u>**"
      ]
    },
    {
      "cell_type": "code",
      "metadata": {
        "id": "4fHDGDO95YGC"
      },
      "source": [
        "import numpy as np\n",
        "import pandas as pd\n",
        "import matplotlib.pyplot as plt\n",
        "import seaborn as sns\n",
        "from sklearn.model_selection import train_test_split, cross_validate, cross_val_predict, GridSearchCV\n",
        "from sklearn.base import BaseEstimator, RegressorMixin\n",
        "from sklearn.dummy import DummyRegressor\n",
        "from sklearn.linear_model import Ridge, Lasso\n",
        "from sklearn.preprocessing import PolynomialFeatures\n",
        "from typing import Dict"
      ],
      "execution_count": 1,
      "outputs": []
    },
    {
      "cell_type": "markdown",
      "metadata": {
        "id": "tSrPNPidMY3l"
      },
      "source": [
        "## Loading the dataset"
      ]
    },
    {
      "cell_type": "code",
      "source": [
        "from google.colab import drive\n",
        "drive.mount('/content/gdrive')"
      ],
      "metadata": {
        "colab": {
          "base_uri": "https://localhost:8080/"
        },
        "id": "_Co5WWi7g77A",
        "outputId": "b30bc15b-2f15-424f-b07a-ec95169025b2"
      },
      "execution_count": 2,
      "outputs": [
        {
          "output_type": "stream",
          "name": "stdout",
          "text": [
            "Mounted at /content/gdrive\n"
          ]
        }
      ]
    },
    {
      "cell_type": "code",
      "source": [
        "!ls 'gdrive/MyDrive/Technion/Machine Learning/Major HW 3'\n",
        "import sys\n",
        "sys.path.insert(0,'/content/gdrive/MyDrive/Technion/Machine Learning/Major HW 3')"
      ],
      "metadata": {
        "colab": {
          "base_uri": "https://localhost:8080/"
        },
        "id": "lo3xDJOohJhc",
        "outputId": "675b2f16-c939-4d5c-f7c3-623f4094b808"
      },
      "execution_count": 3,
      "outputs": [
        {
          "output_type": "stream",
          "name": "stdout",
          "text": [
            "Major_HW3.ipynb  prepare.py   virus_labeled.csv\n",
            "prepare2.py\t __pycache__  virus_unlabeled.csv\n"
          ]
        }
      ]
    },
    {
      "cell_type": "code",
      "metadata": {
        "id": "DfYF1LgMLcNe"
      },
      "source": [
        "# !rm *.csv\n",
        "\n",
        "# from google.colab import files\n",
        "# print(\"Please load the raw csv data\")\n",
        "# uploadedData = files.upload()\n",
        "# filename = list(uploadedData)[0]"
      ],
      "execution_count": 4,
      "outputs": []
    },
    {
      "cell_type": "code",
      "source": [
        "filename = '/content/gdrive/MyDrive/Technion/Machine Learning/Major HW 3/virus_labeled.csv'"
      ],
      "metadata": {
        "id": "IOFuAACdPeLv"
      },
      "execution_count": 5,
      "outputs": []
    },
    {
      "cell_type": "code",
      "metadata": {
        "id": "1jdG6ZYrxuPY"
      },
      "source": [
        "dataset = pd.read_csv(filename)"
      ],
      "execution_count": 6,
      "outputs": []
    },
    {
      "cell_type": "code",
      "metadata": {
        "id": "QdpJtxbBxuPY",
        "colab": {
          "base_uri": "https://localhost:8080/"
        },
        "outputId": "dd224dfc-3b4c-4f7b-a6dc-fa0cf561be5e"
      },
      "source": [
        "dataset.shape"
      ],
      "execution_count": 7,
      "outputs": [
        {
          "output_type": "execute_result",
          "data": {
            "text/plain": [
              "(3000, 27)"
            ]
          },
          "metadata": {},
          "execution_count": 7
        }
      ]
    },
    {
      "cell_type": "markdown",
      "source": [
        "#<u>**Import the Data Preperation Pipeline**</u>"
      ],
      "metadata": {
        "id": "_XQ2g3x3gwkV"
      }
    },
    {
      "cell_type": "code",
      "source": [
        "from prepare import prepare_data"
      ],
      "metadata": {
        "id": "JmfpvbPph2t4"
      },
      "execution_count": 8,
      "outputs": []
    },
    {
      "cell_type": "markdown",
      "source": [
        "#<u>**Preliminary: Data Loading**</u>"
      ],
      "metadata": {
        "id": "ccDCk4VD6P_n"
      }
    },
    {
      "cell_type": "code",
      "source": [
        "train_dirty, test_dirty = train_test_split(dataset, test_size=0.2, random_state=10)\n",
        "train_dirty.reset_index(inplace=True)\n",
        "test_dirty.reset_index(inplace=True)\n",
        "train = prepare_data(train_dirty, train_dirty) \n",
        "test = prepare_data(test_dirty, train_dirty)"
      ],
      "metadata": {
        "id": "fYOGfJRufMyt"
      },
      "execution_count": 9,
      "outputs": []
    },
    {
      "cell_type": "markdown",
      "source": [
        "#<u>**Section 1: Quick data exploration and preparation**</u>"
      ],
      "metadata": {
        "id": "pSaPYveWejj-"
      }
    },
    {
      "cell_type": "markdown",
      "source": [
        "##**<u>Q1:</u>**"
      ],
      "metadata": {
        "id": "ZOqk-_wp7WvV"
      }
    },
    {
      "cell_type": "markdown",
      "source": [
        "Use `histplot` to plot <u>kde</u> plots of the distributions of the target variable (`VirusScore`) conditioned on the following conditions of `BloodType` of the patient:\n",
        "\n",
        "1.   “+“ blood types vs. “-“ blood types\n",
        "2.   “A“ blood types vs. “not A“ blood types\n",
        "3.   “B“ blood types vs. “not B“ blood types"
      ],
      "metadata": {
        "id": "Tw22MrY17gsg"
      }
    },
    {
      "cell_type": "code",
      "source": [
        "fig, ax = plt.subplots(nrows=1, ncols=3, figsize=(18, 5)) \n",
        "for i, cur_type in enumerate(['blood_-', 'blood_A', 'blood_B']): \n",
        "  if cur_type == '-':\n",
        "    filter_mask = train[cur_type].isin([1])\n",
        "  else:\n",
        "    filter_mask = train[cur_type].isin([1]) | train['blood_AB'].isin([1])\n",
        "  sns.histplot(data=train[~filter_mask].VirusScore, ax=ax[i], stat=\"density\", kde=True, \n",
        "               line_kws={\"linewidth\": 3}, color=\"orange\", label=\"not '{}'\".format(cur_type[-1])) \n",
        "  sns.histplot(data=train[filter_mask].VirusScore, ax=ax[i], stat=\"density\", kde=True, \n",
        "               line_kws={\"linewidth\": 3}, label=cur_type[-1]) \n",
        "  ax[i].set_title(\"Blood type contains \" + cur_type[-1]) \n",
        "  ax[i].legend(), ax[i].grid(alpha=0.5)"
      ],
      "metadata": {
        "id": "Yman1RVt98tq",
        "colab": {
          "base_uri": "https://localhost:8080/",
          "height": 350
        },
        "outputId": "526a7aa4-934f-4a3e-8dd1-156054e407c5"
      },
      "execution_count": 10,
      "outputs": [
        {
          "output_type": "display_data",
          "data": {
            "image/png": "[encoded data removed]",
            "text/plain": [
              "<Figure size 1296x360 with 3 Axes>"
            ]
          },
          "metadata": {
            "needs_background": "light"
          }
        }
      ]
    },
    {
      "cell_type": "markdown",
      "source": [
        "**<u>Task</u>:** On both the train and test sets, create a binary feature for the chosen condition (`1` if it is `True` and `0` if `False`) and drop the `BloodType` feature."
      ],
      "metadata": {
        "id": "c8JVHSh8YGjk"
      }
    },
    {
      "cell_type": "code",
      "source": [
        "from prepare2 import prepare_data"
      ],
      "metadata": {
        "id": "PvpyczOPYYx5"
      },
      "execution_count": 11,
      "outputs": []
    },
    {
      "cell_type": "code",
      "source": [
        "train_dirty, test_dirty = train_test_split(dataset, test_size=0.2, random_state=10)\n",
        "train_dirty.reset_index(inplace=True)\n",
        "test_dirty.reset_index(inplace=True)\n",
        "train = prepare_data(train_dirty, train_dirty) \n",
        "test = prepare_data(test_dirty, train_dirty)"
      ],
      "metadata": {
        "id": "ziqIoBUzYYx9"
      },
      "execution_count": 12,
      "outputs": []
    },
    {
      "cell_type": "markdown",
      "source": [
        "#<u>**Section 2: Linear regression implementation**</u>"
      ],
      "metadata": {
        "id": "3prNpGlubObH"
      }
    },
    {
      "cell_type": "code",
      "source": [
        "class LinearRegressor(BaseEstimator, RegressorMixin):\n",
        "    \"\"\"\n",
        "    Custom linear regression model.\n",
        "    \"\"\"\n",
        "\n",
        "    def __init__(self, lr: float = 1e-5):\n",
        "        \"\"\"\n",
        "        Initialize an instance of this class.\n",
        "        ** Do not edit this method **\n",
        "\n",
        "        :param lr: the SGD learning rate (step size)\n",
        "        \"\"\"\n",
        "        self.lr = lr\n",
        "        self.batch_size = 32\n",
        "        self.w = None\n",
        "        self.b = 0.0\n",
        "\n",
        "    # Initialize a random weight vector\n",
        "    def init_solution(self, n_features: int):\n",
        "        \"\"\"\n",
        "        Randomize an initial solution (weight vector)\n",
        "        ** Do not edit this method **\n",
        "\n",
        "        :param n_features:\n",
        "        \"\"\"\n",
        "        self.w = np.zeros(n_features)\n",
        "        self.b = 0.0\n",
        "\n",
        "    @staticmethod\n",
        "    def loss(w: np.ndarray, b: float, X: np.ndarray, y: np.ndarray) -> float:\n",
        "        \"\"\"\n",
        "        Compute the MSE objective loss.\n",
        "\n",
        "        :param w: weight vector for linear regression; array of shape (n_features,)\n",
        "        :param b: bias scalar for linear regression\n",
        "        :param X: samples for loss computation; array of shape (n_samples, n_features)\n",
        "        :param y: targets for loss computation; array of shape (n_samples,)\n",
        "        :return: the linear regression objective loss (float scalar)\n",
        "        \"\"\"\n",
        "        m = X.shape[0]\n",
        "        loss = (np.linalg.norm(X.dot(w) + b - y)**2)/m\n",
        "        return loss\n",
        "\n",
        "    @staticmethod\n",
        "    def gradient(w: np.ndarray, b: float, X: np.ndarray, y: np.ndarray):\n",
        "        \"\"\"\n",
        "        Compute the (analytical) linear regression objective gradient.\n",
        "\n",
        "        :param w: weight vector for linear regression; array of shape (n_features,)\n",
        "        :param b: bias scalar for linear regression\n",
        "        :param X: samples for loss computation; array of shape (n_samples, n_features)\n",
        "        :param y: targets for loss computation; array of shape (n_samples,)\n",
        "        :return: a tuple with (the gradient of the weights, the gradient of the bias)\n",
        "        \"\"\"\n",
        "        margin = X@w + b - y\n",
        "        g_w = (X.transpose() @ margin) * (2 / X.shape[0])\n",
        "        g_b = (np.ones(X.shape[0]).transpose() @ margin) * (2 / X.shape[0])\n",
        "        return g_w, g_b\n",
        "\n",
        "    def fit_with_logs(self, X, y, max_iter: int = 1000, keep_losses: bool = True,\n",
        "                      X_val=None, y_val=None):\n",
        "        \"\"\"\n",
        "        Fit the model according to the given training data.\n",
        "\n",
        "        :param X: training samples; array of shape (n_samples, n_features)\n",
        "        :param y: training targets; array of shape (n_samples,)\n",
        "        :param max_iter: number of SGD iterations\n",
        "        :param keep_losses: should compute the train & val losses during training?\n",
        "        :param X_val: validation samples to compute the loss for (for logs only)\n",
        "        :param y_val: validation labels to compute the loss for (for logs only)\n",
        "        :return: training and validation losses during training\n",
        "        \"\"\"\n",
        "        # Initialize learned parameters\n",
        "        self.init_solution(X.shape[1])\n",
        "\n",
        "        train_losses = []\n",
        "        val_losses = []\n",
        "\n",
        "        if keep_losses:\n",
        "            train_losses.append(self.loss(self.w, self.b, X, y))\n",
        "            val_losses.append(self.loss(self.w, self.b, X_val, y_val))\n",
        "\n",
        "        # Iterate over batches (SGD)\n",
        "        for itr in range(0, max_iter):\n",
        "            start_idx = (itr * self.batch_size) % X.shape[0]\n",
        "            end_idx = min(X.shape[0], start_idx + self.batch_size)\n",
        "            batch_X = X[start_idx: end_idx]\n",
        "            batch_y = y[start_idx: end_idx]\n",
        "\n",
        "            # Compute the gradient for the current *batch*\n",
        "            g_w, g_b = type(self).gradient(self.w, self.b, batch_X, batch_y)\n",
        "\n",
        "            # Perform a gradient step\n",
        "            # update the learned parameters correctly\n",
        "            self.w = self.w - self.lr*g_w\n",
        "            self.b = self.b - self.lr*g_b\n",
        "\n",
        "            if keep_losses:\n",
        "                train_losses.append(self.loss(self.w, self.b,  X, y))\n",
        "                val_losses.append(self.loss(self.w, self.b,  X_val, y_val))\n",
        "\n",
        "        return train_losses, val_losses\n",
        "\n",
        "    def fit(self, X, y, max_iter: int = 1000):\n",
        "        \"\"\"\n",
        "        Fit the model according to the given training data.\n",
        "        ** Do not edit this method **\n",
        "\n",
        "        :param X: training samples; array of shape (n_samples, n_features)\n",
        "        :param y: training targets; array of shape (n_samples,)\n",
        "        :param max_iter: number of SGD iterations\n",
        "        \"\"\"\n",
        "        self.fit_with_logs(X, y, max_iter=max_iter, keep_losses=False)\n",
        "\n",
        "        return self\n",
        "\n",
        "    def predict(self, X: np.ndarray) -> np.ndarray:\n",
        "        \"\"\"\n",
        "        Regress labels on samples in X.\n",
        "\n",
        "        :param X: samples for prediction; array of shape (n_samples, n_features)\n",
        "        :return: Predicted continuous labels for samples in X; array of shape (n_samples,)\n",
        "        \"\"\"\n",
        "        # Compute\n",
        "        y_pred = X.dot(self.w) + self.b\n",
        "\n",
        "        return y_pred\n"
      ],
      "metadata": {
        "id": "DhNipv7lmf-y"
      },
      "execution_count": 13,
      "outputs": []
    },
    {
      "cell_type": "code",
      "source": [
        "def numerical_subgradient(w, b, X, y, delta=1e-4):\n",
        "    w_ = w.copy()\n",
        "    g_w = np.zeros_like(w_)\n",
        "    orig_objective = LinearRegressor.loss(w_, b, X, y)\n",
        "    for i in range(g_w.shape[0]):\n",
        "        w_[i] += delta\n",
        "        perturbed_objective = LinearRegressor.loss(w_, b, X, y)\n",
        "        w_[i] -= delta\n",
        "        g_w[i] = (perturbed_objective - orig_objective) / delta\n",
        "\n",
        "    g_b = (LinearRegressor.loss(w_, b + delta, X, y) - orig_objective) / delta\n",
        "    return g_w, g_b\n",
        "\n",
        "\n",
        "def compare_gradients(X, y, deltas, C=1, REPEATS=10, figsize=(10, 6)):\n",
        "    residual_means_w = []\n",
        "    residual_means_b = []\n",
        "\n",
        "    for delta in deltas:\n",
        "        residuals_w = []\n",
        "        residuals_b = []\n",
        "\n",
        "        for _ in range(REPEATS):\n",
        "            # Randomize vectors in which the gradient is computed\n",
        "            w = np.random.randn(X.shape[1])\n",
        "            b = np.random.randn(1)\n",
        "\n",
        "            # Compute the two types of gradients\n",
        "            analytic_grad_w, analytic_grad_b = LinearRegressor.gradient(w, b, X, y)\n",
        "\n",
        "            numeric_grad_w, numeric_grad_b = numerical_subgradient(w, b, X, y, delta=delta)\n",
        "\n",
        "            residual_w = np.linalg.norm(numeric_grad_w - analytic_grad_w)\n",
        "            residuals_w.append(residual_w)\n",
        "\n",
        "            residual_b = np.linalg.norm(numeric_grad_b - analytic_grad_b)\n",
        "            residuals_b.append(residual_b)\n",
        "\n",
        "        residual_means_w.append(np.mean(residuals_w))\n",
        "        residual_means_b.append(np.mean(residuals_b))\n",
        "\n",
        "    fig, axs = plt.subplots(nrows=1, ncols=2, sharey=True, figsize=(16, 8))\n",
        "    plt.suptitle('Residuals of analytical and numerical gradients',\n",
        "                 fontsize=22, fontweight=\"bold\")\n",
        "    axs[0].set_title(r'Residuals of $\\nabla_{w}L\\left(w,b\\right)$')\n",
        "    axs[1].set_title(r'Residuals of $\\frac{\\partial}{\\partial{b}}L\\left(w,b\\right)$')\n",
        "    axs[0].plot(deltas, residual_means_w, linewidth=3)\n",
        "    axs[1].plot(deltas, residual_means_b, linewidth=3)\n",
        "    axs[0].set_yscale('log')\n",
        "    axs[0].set_xscale('log')\n",
        "    axs[1].set_yscale('log')\n",
        "    axs[1].set_xscale('log')\n",
        "    axs[0].set_xlabel('$\\delta_w$', fontsize=18)\n",
        "    axs[1].set_xlabel('$\\delta_b$', fontsize=18)\n",
        "    axs[0].set_ylabel(r'$\\left\\Vert \\nabla_{w}L\\left(w,b\\right) - u_{\\delta_w} \\left(w,b\\right)\\right\\Vert$',\n",
        "                      fontsize=18)\n",
        "    axs[1].set_ylabel(\n",
        "        r'$\\left\\Vert \\frac{\\partial}{\\partial{b}}L\\left(w,b\\right) - u_{\\delta_b} \\left(w,b\\right)\\right\\Vert$',\n",
        "        fontsize=18)\n",
        "\n",
        "    axs[0].grid(alpha=0.5)\n",
        "    axs[1].grid(alpha=0.5)\n",
        "    plt.show()\n"
      ],
      "metadata": {
        "id": "ELaVQAgVmliT"
      },
      "execution_count": 14,
      "outputs": []
    },
    {
      "cell_type": "code",
      "source": [
        "sub_train, validation = train_test_split(train, test_size=0.2, random_state=10)\n",
        "sub_train = sub_train.reset_index().drop(labels='index', axis=1)\n",
        "validation = validation.reset_index().drop(labels='index', axis=1)"
      ],
      "metadata": {
        "id": "mYLT3-DLoVN-"
      },
      "execution_count": 15,
      "outputs": []
    },
    {
      "cell_type": "markdown",
      "source": [
        "##**<u>Q4:</u>**"
      ],
      "metadata": {
        "id": "31Gpz2N0mxOY"
      }
    },
    {
      "cell_type": "markdown",
      "source": [
        "Using the <u>**normalized**</u> dataset and `VirusScore` as our target, generate a plot that compares the numerical gradients to the analytic gradients.</br>\n",
        "Do this by running the following command:</br>\n",
        "\n",
        "\n",
        "> `compare_gradients(X_train, y_train, deltas=np.logspace(-7, -2, 9))`\n",
        "\n",
        "**Important**: X_train should hold the features of your normalized training subset.</br>\n",
        "y_train should hold the VirusScore subset training labels.</br></br>\n",
        "**In your report**: Attach the resulting plots. Briefly discuss and <u>justify</u> the demonstrated behavior."
      ],
      "metadata": {
        "id": "a744ttVRm1hB"
      }
    },
    {
      "cell_type": "code",
      "source": [
        "compare_gradients(sub_train.drop('VirusScore', axis=1), sub_train.VirusScore, deltas=np.logspace(-7, -2, 10))"
      ],
      "metadata": {
        "id": "hR8rxxuFno4e",
        "colab": {
          "base_uri": "https://localhost:8080/",
          "height": 568
        },
        "outputId": "81367616-8658-4285-fba8-67a31e1751c8"
      },
      "execution_count": 16,
      "outputs": [
        {
          "output_type": "display_data",
          "data": {
            "image/png": "[encoded data removed]",
            "text/plain": [
              "<Figure size 1152x576 with 2 Axes>"
            ]
          },
          "metadata": {
            "needs_background": "light"
          }
        }
      ]
    },
    {
      "cell_type": "markdown",
      "source": [
        "##**<u>Q5:</u>**"
      ],
      "metadata": {
        "id": "nA5kTR1q0Blt"
      }
    },
    {
      "cell_type": "markdown",
      "source": [
        "In this question, we want to evaluate the effects of different learning rates on the learning procedure. Run the following command that plots a graph of the training and validation losses as a function of the iteration number for different learning rates.\n",
        ">  `test_lr(X_train, y_train, X_val, y_val)`\n",
        "\n",
        "**Important**: `X_val` should hold the features of your **<u>normalized</u>** validation subset.</br>\n",
        "`y_val` should hold the `VirusScore` subset validation labels.\n",
        "</br></br>\n",
        "**Note**: If your model did not converge with any learning rate, you are allowed to alter the lr_list variable (but explain this in your report).\n",
        "</br></br>\n",
        "Attach the plots to your report, briefly discuss the results and justify the demonstrated behaviors."
      ],
      "metadata": {
        "id": "26RcqdUR0Cp9"
      }
    },
    {
      "cell_type": "code",
      "source": [
        "def test_lr(X_train, y_train, X_val, y_val, max_iter = 1500):\n",
        "  lr_list = np.logspace(-9, -1, 9)\n",
        "\n",
        "  fig, axs = plt.subplots(3, 3, sharey=True, figsize=(20, 12))\n",
        "  plt.tight_layout()\n",
        "  fig.subplots_adjust(hspace=0.5)\n",
        "  \n",
        "  axs = np.ravel(axs)\n",
        "  for i, lr in enumerate(lr_list):\n",
        "    cur_linear_reggressor = LinearRegressor(lr)\n",
        "    train_losses, val_losses = cur_linear_reggressor.fit_with_logs(X_train, y_train, keep_losses=True, X_val=X_val, y_val=y_val, max_iter = max_iter)\n",
        "    print('lr size = '+str(lr)+', Best train loss = '+str(min(train_losses))+', Best validation loss = '+str(min(val_losses)))\n",
        "\n",
        "    iterations = np.arange(max_iter + 1)\n",
        "    axs[i].semilogy(iterations, train_losses, label=\"Train\")\n",
        "    axs[i].semilogy(iterations, val_losses, label=\"Validation\")\n",
        "    axs[i].grid(alpha=0.5)\n",
        "    axs[i].legend()\n",
        "    axs[i].set_title('lr = '+str(lr))\n",
        "    axs[i].set_xlabel('iteration')\n",
        "    axs[i].set_ylabel('MSE')"
      ],
      "metadata": {
        "id": "key265gm0ijM"
      },
      "execution_count": 17,
      "outputs": []
    },
    {
      "cell_type": "code",
      "source": [
        "test_lr(sub_train.drop('VirusScore', axis=1), sub_train.VirusScore, validation.drop('VirusScore', axis=1), validation.VirusScore)"
      ],
      "metadata": {
        "id": "G-ae8t8I0nfK",
        "colab": {
          "base_uri": "https://localhost:8080/",
          "height": 1000
        },
        "outputId": "1a11e8af-9a59-4d23-d9cf-0b4a24a24ae7"
      },
      "execution_count": 18,
      "outputs": [
        {
          "output_type": "stream",
          "name": "stdout",
          "text": [
            "lr size = 1e-09, Best train loss = 0.10333441284986683, Best validation loss = 0.10501411166055583\n",
            "lr size = 1e-08, Best train loss = 0.1033263164123627, Best validation loss = 0.10500611701112844\n",
            "lr size = 1e-07, Best train loss = 0.10324539297903707, Best validation loss = 0.10492621065461606\n",
            "lr size = 1e-06, Best train loss = 0.10244023887144746, Best validation loss = 0.10413114724258048\n",
            "lr size = 1e-05, Best train loss = 0.09478312489121313, Best validation loss = 0.096567246997324\n",
            "lr size = 0.0001, Best train loss = 0.04695005054325617, Best validation loss = 0.049139011275594974\n",
            "lr size = 0.001, Best train loss = 0.013182721519587893, Best validation loss = 0.014434566324702287\n",
            "lr size = 0.01, Best train loss = 0.008735962566069462, Best validation loss = 0.008451828315450135\n",
            "lr size = 0.1, Best train loss = 0.00870462489932178, Best validation loss = 0.008165209531237717\n"
          ]
        },
        {
          "output_type": "display_data",
          "data": {
            "image/png": "[encoded data removed]",
            "text/plain": [
              "<Figure size 1440x864 with 9 Axes>"
            ]
          },
          "metadata": {
            "needs_background": "light"
          }
        }
      ]
    },
    {
      "cell_type": "markdown",
      "source": [
        "#<u>**Section 3: Evaluation and Baseline**</u>"
      ],
      "metadata": {
        "id": "tq7BlWGbFf3k"
      }
    },
    {
      "cell_type": "markdown",
      "source": [
        "We now train a simple `DummyRegressor` that always predicts the average `VirusScore` of the training set. We will use this regressor throughout the assignment as a baseline to which we will compare the performance of our learned regressors."
      ],
      "metadata": {
        "id": "dcalwni5FinV"
      }
    },
    {
      "cell_type": "markdown",
      "source": [
        "##**<u>Q6:</u>**"
      ],
      "metadata": {
        "id": "Gc-aPVeAG_Gi"
      }
    },
    {
      "cell_type": "markdown",
      "source": [
        "Create a `DummyRegressor`. Evaluate its performance using `cross-validation`."
      ],
      "metadata": {
        "id": "GO0k-tKJHAXJ"
      }
    },
    {
      "cell_type": "code",
      "source": [
        "clf = DummyRegressor(strategy='mean')\n",
        "res = cross_validate(clf, X=np.array(train.drop(labels='VirusScore', axis=1)), y = np.array(train.VirusScore), cv = 5, scoring='neg_mean_squared_error', n_jobs = -1, return_train_score = True)\n",
        "dummy_val_error = -res['test_score'].mean()\n",
        "dummy_train_error = -res['train_score'].mean()\n",
        "\n",
        "model_table = pd.DataFrame({\n",
        "    'Model': ['Dummy'],\n",
        "    'Section': [3],\n",
        "    'Train MSE': [dummy_train_error],\n",
        "    'Valid MSE': [dummy_val_error]\n",
        "})\n",
        "model_table.style.set_caption(\"Models Scoring Table\").set_table_styles([{\n",
        "    'selector': 'caption',\n",
        "    'props': [\n",
        "        ('font-size', '20px'),\n",
        "        ('font-weight', 'bold')\n",
        "    ]\n",
        "}])"
      ],
      "metadata": {
        "id": "9h17uGRQHD6j",
        "colab": {
          "base_uri": "https://localhost:8080/",
          "height": 106
        },
        "outputId": "35972413-94c7-4528-da6e-003552750ae1"
      },
      "execution_count": 19,
      "outputs": [
        {
          "output_type": "execute_result",
          "data": {
            "text/html": [
              "<style  type=\"text/css\" >\n",
              "    #T_767d0a30_73e8_11ec_8b5d_0242ac1c0002 caption {\n",
              "          font-size: 20px;\n",
              "          font-weight: bold;\n",
              "    }</style><table id=\"T_767d0a30_73e8_11ec_8b5d_0242ac1c0002\" class=\"dataframe\"><caption>Models Scoring Table</caption><thead>    <tr>        <th class=\"blank level0\" ></th>        <th class=\"col_heading level0 col0\" >Model</th>        <th class=\"col_heading level0 col1\" >Section</th>        <th class=\"col_heading level0 col2\" >Train MSE</th>        <th class=\"col_heading level0 col3\" >Valid MSE</th>    </tr></thead><tbody>\n",
              "                <tr>\n",
              "                        <th id=\"T_767d0a30_73e8_11ec_8b5d_0242ac1c0002level0_row0\" class=\"row_heading level0 row0\" >0</th>\n",
              "                        <td id=\"T_767d0a30_73e8_11ec_8b5d_0242ac1c0002row0_col0\" class=\"data row0 col0\" >Dummy</td>\n",
              "                        <td id=\"T_767d0a30_73e8_11ec_8b5d_0242ac1c0002row0_col1\" class=\"data row0 col1\" >3</td>\n",
              "                        <td id=\"T_767d0a30_73e8_11ec_8b5d_0242ac1c0002row0_col2\" class=\"data row0 col2\" >0.019663</td>\n",
              "                        <td id=\"T_767d0a30_73e8_11ec_8b5d_0242ac1c0002row0_col3\" class=\"data row0 col3\" >0.019716</td>\n",
              "            </tr>\n",
              "    </tbody></table>"
            ],
            "text/plain": [
              "<pandas.io.formats.style.Styler at 0x7f3b4aaca3d0>"
            ]
          },
          "metadata": {},
          "execution_count": 19
        }
      ]
    },
    {
      "cell_type": "markdown",
      "source": [
        "**<u>Task</u>**: Retrain the dummy regressor on the entire training set and save it for future use (Sec 7)."
      ],
      "metadata": {
        "id": "s2OxSPFtKPNa"
      }
    },
    {
      "cell_type": "code",
      "source": [
        "section_to_clf = dict()"
      ],
      "metadata": {
        "id": "me4UM80M45MT"
      },
      "execution_count": 20,
      "outputs": []
    },
    {
      "cell_type": "code",
      "source": [
        "curr_section = 3\n",
        "dummy_clf = DummyRegressor(strategy='mean')\n",
        "_ = dummy_clf.fit(X=np.array(train.drop(labels='VirusScore', axis=1)), y = np.array(train.VirusScore))\n",
        "\n",
        "section_to_clf[curr_section] = dummy_clf"
      ],
      "metadata": {
        "id": "M8TatqXOKXzg"
      },
      "execution_count": 21,
      "outputs": []
    },
    {
      "cell_type": "markdown",
      "source": [
        "#<u>**Section 4: Ridge linear regression**</u>"
      ],
      "metadata": {
        "id": "Tqyy1PHi6A55"
      }
    },
    {
      "cell_type": "markdown",
      "source": [
        "We will now learn to predict `VirusScore` using the `sklearn.linear_model.Ridge` regressor."
      ],
      "metadata": {
        "id": "NxhyTZON9eU5"
      }
    },
    {
      "cell_type": "markdown",
      "source": [
        "##**<u>Q7:</u>**"
      ],
      "metadata": {
        "id": "VFB7-AQT90xZ"
      }
    },
    {
      "cell_type": "markdown",
      "source": [
        "Tune the regularization strength of the regressor. Remember to attach the required plot and specify the optimal strength with its validation error."
      ],
      "metadata": {
        "id": "9huH5bak92qU"
      }
    },
    {
      "cell_type": "code",
      "source": [
        "val_scores = dict()\n",
        "train_scores = dict()\n",
        "\n",
        "for a in np.logspace(-3, 22, 30, base=2.0):\n",
        "  res = cross_validate(Ridge(alpha=a, fit_intercept=True), X=np.array(train.drop(labels='VirusScore', axis=1)), y = np.array(train.VirusScore), cv = 5, scoring='neg_mean_squared_error', n_jobs = -1, return_train_score = True)\n",
        "  val_scores[a] = -res['test_score'].mean()\n",
        "  train_scores[a] = -res['train_score'].mean()\n",
        "\n",
        "to_plot = pd.DataFrame(data={'alpha': train_scores.keys(), \n",
        "                             'Validation Error': [val for _, val in val_scores.items()], \n",
        "                             'Training Error': [val for _, val in train_scores.items()],\n",
        "                             'Dummy Validation Error': [dummy_val_error for _ in train_scores.keys()]\n",
        "                             })\n",
        "to_plot"
      ],
      "metadata": {
        "id": "ptdmzhtJ95yh",
        "colab": {
          "base_uri": "https://localhost:8080/",
          "height": 990
        },
        "outputId": "26ab4a36-bb52-40ac-9787-82cd7b22c394"
      },
      "execution_count": 22,
      "outputs": [
        {
          "output_type": "execute_result",
          "data": {
            "text/html": [
              "\n",
              "  <div id=\"df-95804879-ab60-47be-87a3-5398f3ee2139\">\n",
              "    <div class=\"colab-df-container\">\n",
              "      <div>\n",
              "<style scoped>\n",
              "    .dataframe tbody tr th:only-of-type {\n",
              "        vertical-align: middle;\n",
              "    }\n",
              "\n",
              "    .dataframe tbody tr th {\n",
              "        vertical-align: top;\n",
              "    }\n",
              "\n",
              "    .dataframe thead th {\n",
              "        text-align: right;\n",
              "    }\n",
              "</style>\n",
              "<table border=\"1\" class=\"dataframe\">\n",
              "  <thead>\n",
              "    <tr style=\"text-align: right;\">\n",
              "      <th></th>\n",
              "      <th>alpha</th>\n",
              "      <th>Validation Error</th>\n",
              "      <th>Training Error</th>\n",
              "      <th>Dummy Validation Error</th>\n",
              "    </tr>\n",
              "  </thead>\n",
              "  <tbody>\n",
              "    <tr>\n",
              "      <th>0</th>\n",
              "      <td>1.250000e-01</td>\n",
              "      <td>0.008767</td>\n",
              "      <td>0.008528</td>\n",
              "      <td>0.019716</td>\n",
              "    </tr>\n",
              "    <tr>\n",
              "      <th>1</th>\n",
              "      <td>2.272054e-01</td>\n",
              "      <td>0.008767</td>\n",
              "      <td>0.008528</td>\n",
              "      <td>0.019716</td>\n",
              "    </tr>\n",
              "    <tr>\n",
              "      <th>2</th>\n",
              "      <td>4.129783e-01</td>\n",
              "      <td>0.008767</td>\n",
              "      <td>0.008528</td>\n",
              "      <td>0.019716</td>\n",
              "    </tr>\n",
              "    <tr>\n",
              "      <th>3</th>\n",
              "      <td>7.506472e-01</td>\n",
              "      <td>0.008766</td>\n",
              "      <td>0.008529</td>\n",
              "      <td>0.019716</td>\n",
              "    </tr>\n",
              "    <tr>\n",
              "      <th>4</th>\n",
              "      <td>1.364409e+00</td>\n",
              "      <td>0.008766</td>\n",
              "      <td>0.008529</td>\n",
              "      <td>0.019716</td>\n",
              "    </tr>\n",
              "    <tr>\n",
              "      <th>5</th>\n",
              "      <td>2.480008e+00</td>\n",
              "      <td>0.008766</td>\n",
              "      <td>0.008531</td>\n",
              "      <td>0.019716</td>\n",
              "    </tr>\n",
              "    <tr>\n",
              "      <th>6</th>\n",
              "      <td>4.507770e+00</td>\n",
              "      <td>0.008770</td>\n",
              "      <td>0.008536</td>\n",
              "      <td>0.019716</td>\n",
              "    </tr>\n",
              "    <tr>\n",
              "      <th>7</th>\n",
              "      <td>8.193516e+00</td>\n",
              "      <td>0.008782</td>\n",
              "      <td>0.008553</td>\n",
              "      <td>0.019716</td>\n",
              "    </tr>\n",
              "    <tr>\n",
              "      <th>8</th>\n",
              "      <td>1.489289e+01</td>\n",
              "      <td>0.008825</td>\n",
              "      <td>0.008601</td>\n",
              "      <td>0.019716</td>\n",
              "    </tr>\n",
              "    <tr>\n",
              "      <th>9</th>\n",
              "      <td>2.706996e+01</td>\n",
              "      <td>0.008952</td>\n",
              "      <td>0.008736</td>\n",
              "      <td>0.019716</td>\n",
              "    </tr>\n",
              "    <tr>\n",
              "      <th>10</th>\n",
              "      <td>4.920352e+01</td>\n",
              "      <td>0.009273</td>\n",
              "      <td>0.009065</td>\n",
              "      <td>0.019716</td>\n",
              "    </tr>\n",
              "    <tr>\n",
              "      <th>11</th>\n",
              "      <td>8.943444e+01</td>\n",
              "      <td>0.009954</td>\n",
              "      <td>0.009755</td>\n",
              "      <td>0.019716</td>\n",
              "    </tr>\n",
              "    <tr>\n",
              "      <th>12</th>\n",
              "      <td>1.625599e+02</td>\n",
              "      <td>0.011127</td>\n",
              "      <td>0.010934</td>\n",
              "      <td>0.019716</td>\n",
              "    </tr>\n",
              "    <tr>\n",
              "      <th>13</th>\n",
              "      <td>2.954759e+02</td>\n",
              "      <td>0.012738</td>\n",
              "      <td>0.012552</td>\n",
              "      <td>0.019716</td>\n",
              "    </tr>\n",
              "    <tr>\n",
              "      <th>14</th>\n",
              "      <td>5.370697e+02</td>\n",
              "      <td>0.014519</td>\n",
              "      <td>0.014345</td>\n",
              "      <td>0.019716</td>\n",
              "    </tr>\n",
              "    <tr>\n",
              "      <th>15</th>\n",
              "      <td>9.762010e+02</td>\n",
              "      <td>0.016152</td>\n",
              "      <td>0.015994</td>\n",
              "      <td>0.019716</td>\n",
              "    </tr>\n",
              "    <tr>\n",
              "      <th>16</th>\n",
              "      <td>1.774385e+03</td>\n",
              "      <td>0.017435</td>\n",
              "      <td>0.017299</td>\n",
              "      <td>0.019716</td>\n",
              "    </tr>\n",
              "    <tr>\n",
              "      <th>17</th>\n",
              "      <td>3.225199e+03</td>\n",
              "      <td>0.018332</td>\n",
              "      <td>0.018217</td>\n",
              "      <td>0.019716</td>\n",
              "    </tr>\n",
              "    <tr>\n",
              "      <th>18</th>\n",
              "      <td>5.862261e+03</td>\n",
              "      <td>0.018906</td>\n",
              "      <td>0.018812</td>\n",
              "      <td>0.019716</td>\n",
              "    </tr>\n",
              "    <tr>\n",
              "      <th>19</th>\n",
              "      <td>1.065550e+04</td>\n",
              "      <td>0.019254</td>\n",
              "      <td>0.019174</td>\n",
              "      <td>0.019716</td>\n",
              "    </tr>\n",
              "    <tr>\n",
              "      <th>20</th>\n",
              "      <td>1.936789e+04</td>\n",
              "      <td>0.019456</td>\n",
              "      <td>0.019387</td>\n",
              "      <td>0.019716</td>\n",
              "    </tr>\n",
              "    <tr>\n",
              "      <th>21</th>\n",
              "      <td>3.520392e+04</td>\n",
              "      <td>0.019571</td>\n",
              "      <td>0.019509</td>\n",
              "      <td>0.019716</td>\n",
              "    </tr>\n",
              "    <tr>\n",
              "      <th>22</th>\n",
              "      <td>6.398815e+04</td>\n",
              "      <td>0.019636</td>\n",
              "      <td>0.019577</td>\n",
              "      <td>0.019716</td>\n",
              "    </tr>\n",
              "    <tr>\n",
              "      <th>23</th>\n",
              "      <td>1.163076e+05</td>\n",
              "      <td>0.019672</td>\n",
              "      <td>0.019615</td>\n",
              "      <td>0.019716</td>\n",
              "    </tr>\n",
              "    <tr>\n",
              "      <th>24</th>\n",
              "      <td>2.114058e+05</td>\n",
              "      <td>0.019692</td>\n",
              "      <td>0.019637</td>\n",
              "      <td>0.019716</td>\n",
              "    </tr>\n",
              "    <tr>\n",
              "      <th>25</th>\n",
              "      <td>3.842602e+05</td>\n",
              "      <td>0.019703</td>\n",
              "      <td>0.019648</td>\n",
              "      <td>0.019716</td>\n",
              "    </tr>\n",
              "    <tr>\n",
              "      <th>26</th>\n",
              "      <td>6.984480e+05</td>\n",
              "      <td>0.019709</td>\n",
              "      <td>0.019655</td>\n",
              "      <td>0.019716</td>\n",
              "    </tr>\n",
              "    <tr>\n",
              "      <th>27</th>\n",
              "      <td>1.269529e+06</td>\n",
              "      <td>0.019712</td>\n",
              "      <td>0.019658</td>\n",
              "      <td>0.019716</td>\n",
              "    </tr>\n",
              "    <tr>\n",
              "      <th>28</th>\n",
              "      <td>2.307551e+06</td>\n",
              "      <td>0.019714</td>\n",
              "      <td>0.019660</td>\n",
              "      <td>0.019716</td>\n",
              "    </tr>\n",
              "    <tr>\n",
              "      <th>29</th>\n",
              "      <td>4.194304e+06</td>\n",
              "      <td>0.019715</td>\n",
              "      <td>0.019661</td>\n",
              "      <td>0.019716</td>\n",
              "    </tr>\n",
              "  </tbody>\n",
              "</table>\n",
              "</div>\n",
              "      <button class=\"colab-df-convert\" onclick=\"convertToInteractive('df-95804879-ab60-47be-87a3-5398f3ee2139')\"\n",
              "              title=\"Convert this dataframe to an interactive table.\"\n",
              "              style=\"display:none;\">\n",
              "        \n",
              "  <svg xmlns=\"http://www.w3.org/2000/svg\" height=\"24px\"viewBox=\"0 0 24 24\"\n",
              "       width=\"24px\">\n",
              "    <path d=\"M0 0h24v24H0V0z\" fill=\"none\"/>\n",
              "    <path d=\"M18.56 5.44l.94 2.06.94-2.06 2.06-.94-2.06-.94-.94-2.06-.94 2.06-2.06.94zm-11 1L8.5 8.5l.94-2.06 2.06-.94-2.06-.94L8.5 2.5l-.94 2.06-2.06.94zm10 10l.94 2.06.94-2.06 2.06-.94-2.06-.94-.94-2.06-.94 2.06-2.06.94z\"/><path d=\"M17.41 7.96l-1.37-1.37c-.4-.4-.92-.59-1.43-.59-.52 0-1.04.2-1.43.59L10.3 9.45l-7.72 7.72c-.78.78-.78 2.05 0 2.83L4 21.41c.39.39.9.59 1.41.59.51 0 1.02-.2 1.41-.59l7.78-7.78 2.81-2.81c.8-.78.8-2.07 0-2.86zM5.41 20L4 18.59l7.72-7.72 1.47 1.35L5.41 20z\"/>\n",
              "  </svg>\n",
              "      </button>\n",
              "      \n",
              "  <style>\n",
              "    .colab-df-container {\n",
              "      display:flex;\n",
              "      flex-wrap:wrap;\n",
              "      gap: 12px;\n",
              "    }\n",
              "\n",
              "    .colab-df-convert {\n",
              "      background-color: #E8F0FE;\n",
              "      border: none;\n",
              "      border-radius: 50%;\n",
              "      cursor: pointer;\n",
              "      display: none;\n",
              "      fill: #1967D2;\n",
              "      height: 32px;\n",
              "      padding: 0 0 0 0;\n",
              "      width: 32px;\n",
              "    }\n",
              "\n",
              "    .colab-df-convert:hover {\n",
              "      background-color: #E2EBFA;\n",
              "      box-shadow: 0px 1px 2px rgba(60, 64, 67, 0.3), 0px 1px 3px 1px rgba(60, 64, 67, 0.15);\n",
              "      fill: #174EA6;\n",
              "    }\n",
              "\n",
              "    [theme=dark] .colab-df-convert {\n",
              "      background-color: #3B4455;\n",
              "      fill: #D2E3FC;\n",
              "    }\n",
              "\n",
              "    [theme=dark] .colab-df-convert:hover {\n",
              "      background-color: #434B5C;\n",
              "      box-shadow: 0px 1px 3px 1px rgba(0, 0, 0, 0.15);\n",
              "      filter: drop-shadow(0px 1px 2px rgba(0, 0, 0, 0.3));\n",
              "      fill: #FFFFFF;\n",
              "    }\n",
              "  </style>\n",
              "\n",
              "      <script>\n",
              "        const buttonEl =\n",
              "          document.querySelector('#df-95804879-ab60-47be-87a3-5398f3ee2139 button.colab-df-convert');\n",
              "        buttonEl.style.display =\n",
              "          google.colab.kernel.accessAllowed ? 'block' : 'none';\n",
              "\n",
              "        async function convertToInteractive(key) {\n",
              "          const element = document.querySelector('#df-95804879-ab60-47be-87a3-5398f3ee2139');\n",
              "          const dataTable =\n",
              "            await google.colab.kernel.invokeFunction('convertToInteractive',\n",
              "                                                     [key], {});\n",
              "          if (!dataTable) return;\n",
              "\n",
              "          const docLinkHtml = 'Like what you see? Visit the ' +\n",
              "            '<a target=\"_blank\" href=https://colab.research.google.com/notebooks/data_table.ipynb>data table notebook</a>'\n",
              "            + ' to learn more about interactive tables.';\n",
              "          element.innerHTML = '';\n",
              "          dataTable['output_type'] = 'display_data';\n",
              "          await google.colab.output.renderOutput(dataTable, element);\n",
              "          const docLink = document.createElement('div');\n",
              "          docLink.innerHTML = docLinkHtml;\n",
              "          element.appendChild(docLink);\n",
              "        }\n",
              "      </script>\n",
              "    </div>\n",
              "  </div>\n",
              "  "
            ],
            "text/plain": [
              "           alpha  Validation Error  Training Error  Dummy Validation Error\n",
              "0   1.250000e-01          0.008767        0.008528                0.019716\n",
              "1   2.272054e-01          0.008767        0.008528                0.019716\n",
              "2   4.129783e-01          0.008767        0.008528                0.019716\n",
              "3   7.506472e-01          0.008766        0.008529                0.019716\n",
              "4   1.364409e+00          0.008766        0.008529                0.019716\n",
              "5   2.480008e+00          0.008766        0.008531                0.019716\n",
              "6   4.507770e+00          0.008770        0.008536                0.019716\n",
              "7   8.193516e+00          0.008782        0.008553                0.019716\n",
              "8   1.489289e+01          0.008825        0.008601                0.019716\n",
              "9   2.706996e+01          0.008952        0.008736                0.019716\n",
              "10  4.920352e+01          0.009273        0.009065                0.019716\n",
              "11  8.943444e+01          0.009954        0.009755                0.019716\n",
              "12  1.625599e+02          0.011127        0.010934                0.019716\n",
              "13  2.954759e+02          0.012738        0.012552                0.019716\n",
              "14  5.370697e+02          0.014519        0.014345                0.019716\n",
              "15  9.762010e+02          0.016152        0.015994                0.019716\n",
              "16  1.774385e+03          0.017435        0.017299                0.019716\n",
              "17  3.225199e+03          0.018332        0.018217                0.019716\n",
              "18  5.862261e+03          0.018906        0.018812                0.019716\n",
              "19  1.065550e+04          0.019254        0.019174                0.019716\n",
              "20  1.936789e+04          0.019456        0.019387                0.019716\n",
              "21  3.520392e+04          0.019571        0.019509                0.019716\n",
              "22  6.398815e+04          0.019636        0.019577                0.019716\n",
              "23  1.163076e+05          0.019672        0.019615                0.019716\n",
              "24  2.114058e+05          0.019692        0.019637                0.019716\n",
              "25  3.842602e+05          0.019703        0.019648                0.019716\n",
              "26  6.984480e+05          0.019709        0.019655                0.019716\n",
              "27  1.269529e+06          0.019712        0.019658                0.019716\n",
              "28  2.307551e+06          0.019714        0.019660                0.019716\n",
              "29  4.194304e+06          0.019715        0.019661                0.019716"
            ]
          },
          "metadata": {},
          "execution_count": 22
        }
      ]
    },
    {
      "cell_type": "code",
      "source": [
        "sns.set(rc={'figure.figsize':(11.7,8.27)})\n",
        "sns.set_style('whitegrid')\n",
        "ax1 = sns.lineplot(x=\"alpha\", y=\"Validation Error\", data=to_plot,\n",
        "                 ci=None, label='Validation Error', marker='o')\n",
        "sns.lineplot(x=\"alpha\", y=\"Training Error\", data=to_plot,\n",
        "                 ci=None, label='Training Error', marker='o', ax=ax1)\n",
        "sns.lineplot(x=\"alpha\", y=\"Dummy Validation Error\", data=to_plot,\n",
        "                 ci=None, label='Dummy Validation Error', marker='o', ax=ax1)\n",
        "ax1.set(xlabel='alpha', ylabel='MSE', xscale='log')\n",
        "ax1.legend()\n",
        "_ = plt.title('Ridge Validation Plot', fontsize=20, fontweight='bold')"
      ],
      "metadata": {
        "id": "8jJv-xCMFC7d",
        "colab": {
          "base_uri": "https://localhost:8080/",
          "height": 545
        },
        "outputId": "a9ee1619-bfd0-4eea-d5eb-73471f51cc17"
      },
      "execution_count": 23,
      "outputs": [
        {
          "output_type": "display_data",
          "data": {
            "image/png": "[encoded data removed]",
            "text/plain": [
              "<Figure size 842.4x595.44 with 1 Axes>"
            ]
          },
          "metadata": {}
        }
      ]
    },
    {
      "cell_type": "markdown",
      "source": [
        "We will now zoom in a portion of the graph we suspect to have a minimum validation error value at."
      ],
      "metadata": {
        "id": "qgAtJhY5FheV"
      }
    },
    {
      "cell_type": "code",
      "source": [
        "val_scores = dict()\n",
        "train_scores = dict()\n",
        "\n",
        "for a in np.logspace(-1.5, 1.5, 50, base=2.0):\n",
        "  res = cross_validate(Ridge(alpha=a, fit_intercept=True), X=np.array(train.drop(labels='VirusScore', axis=1)), y = np.array(train.VirusScore), cv = 5, scoring='neg_mean_squared_error', n_jobs = -1, return_train_score = True)\n",
        "  val_scores[a] = -res['test_score'].mean()\n",
        "  train_scores[a] = -res['train_score'].mean()\n",
        "\n",
        "to_plot = pd.DataFrame(data={'alpha': train_scores.keys(), \n",
        "                             'Validation Error': [val for _, val in val_scores.items()], \n",
        "                             'Training Error': [val for _, val in train_scores.items()],\n",
        "                             'Dummy Validation Error': [dummy_val_error for _ in train_scores.keys()]\n",
        "                             })"
      ],
      "metadata": {
        "id": "n0bF3VByFpZh"
      },
      "execution_count": 24,
      "outputs": []
    },
    {
      "cell_type": "code",
      "source": [
        "sns.set(rc={'figure.figsize':(11.7,8.27)})\n",
        "sns.set_style('whitegrid')\n",
        "ax1 = sns.lineplot(x=\"alpha\", y=\"Validation Error\", data=to_plot,\n",
        "                 ci=None, label='Validation Error', marker='o')\n",
        "ax1.set(xlabel='alpha', ylabel='MSE', xscale='log')\n",
        "ax1.legend()\n",
        "_ = plt.title('Ridge Validation Plot', fontsize=20, fontweight='bold')"
      ],
      "metadata": {
        "id": "XpThqL9FF3xC",
        "colab": {
          "base_uri": "https://localhost:8080/",
          "height": 545
        },
        "outputId": "c9ba91f7-977b-4063-d8a2-09de5ac16f2a"
      },
      "execution_count": 25,
      "outputs": [
        {
          "output_type": "display_data",
          "data": {
            "image/png": "[encoded data removed]",
            "text/plain": [
              "<Figure size 842.4x595.44 with 1 Axes>"
            ]
          },
          "metadata": {}
        }
      ]
    },
    {
      "cell_type": "code",
      "source": [
        "validation_min = sorted(val_scores.items(), key=lambda x: (x[1], x[0]))[0]\n",
        "print(f'Optimal alpha: {validation_min[0]}\\nOptimal validation MSE: {validation_min[1]}')\n",
        "opt_alpha = validation_min[0]"
      ],
      "metadata": {
        "id": "55Oi2xu1KD_s",
        "colab": {
          "base_uri": "https://localhost:8080/"
        },
        "outputId": "b4aacaca-f967-4237-e21a-2d34228227d8"
      },
      "execution_count": 26,
      "outputs": [
        {
          "output_type": "stream",
          "name": "stdout",
          "text": [
            "Optimal alpha: 1.4965418805580937\n",
            "Optimal validation MSE: 0.008766101280693828\n"
          ]
        }
      ]
    },
    {
      "cell_type": "markdown",
      "source": [
        "##**<u>Q8:</u>**"
      ],
      "metadata": {
        "id": "hocdwdsyOTaL"
      }
    },
    {
      "cell_type": "markdown",
      "source": [
        "Fill in the cross-validated errors of the regressor yielded by the optimal hyperparameter."
      ],
      "metadata": {
        "id": "1WeRBLrNOUWO"
      }
    },
    {
      "cell_type": "code",
      "source": [
        "model_table.loc[1] = ['Ridge Linear', 4, train_scores[validation_min[0]], validation_min[1]]\n",
        "model_table.style.set_caption(\"Models Scoring Table\").set_table_styles([{\n",
        "    'selector': 'caption',\n",
        "    'props': [\n",
        "        ('font-size', '20px'),\n",
        "        ('font-weight', 'bold')\n",
        "    ]\n",
        "}])"
      ],
      "metadata": {
        "id": "nrQPmy5mNXo4",
        "colab": {
          "base_uri": "https://localhost:8080/",
          "height": 137
        },
        "outputId": "e5ed1c38-1f66-4eef-e6e6-687cde642a62"
      },
      "execution_count": 27,
      "outputs": [
        {
          "output_type": "execute_result",
          "data": {
            "text/html": [
              "<style  type=\"text/css\" >\n",
              "    #T_7982a5f0_73e8_11ec_8b5d_0242ac1c0002 caption {\n",
              "          font-size: 20px;\n",
              "          font-weight: bold;\n",
              "    }</style><table id=\"T_7982a5f0_73e8_11ec_8b5d_0242ac1c0002\" class=\"dataframe\"><caption>Models Scoring Table</caption><thead>    <tr>        <th class=\"blank level0\" ></th>        <th class=\"col_heading level0 col0\" >Model</th>        <th class=\"col_heading level0 col1\" >Section</th>        <th class=\"col_heading level0 col2\" >Train MSE</th>        <th class=\"col_heading level0 col3\" >Valid MSE</th>    </tr></thead><tbody>\n",
              "                <tr>\n",
              "                        <th id=\"T_7982a5f0_73e8_11ec_8b5d_0242ac1c0002level0_row0\" class=\"row_heading level0 row0\" >0</th>\n",
              "                        <td id=\"T_7982a5f0_73e8_11ec_8b5d_0242ac1c0002row0_col0\" class=\"data row0 col0\" >Dummy</td>\n",
              "                        <td id=\"T_7982a5f0_73e8_11ec_8b5d_0242ac1c0002row0_col1\" class=\"data row0 col1\" >3</td>\n",
              "                        <td id=\"T_7982a5f0_73e8_11ec_8b5d_0242ac1c0002row0_col2\" class=\"data row0 col2\" >0.019663</td>\n",
              "                        <td id=\"T_7982a5f0_73e8_11ec_8b5d_0242ac1c0002row0_col3\" class=\"data row0 col3\" >0.019716</td>\n",
              "            </tr>\n",
              "            <tr>\n",
              "                        <th id=\"T_7982a5f0_73e8_11ec_8b5d_0242ac1c0002level0_row1\" class=\"row_heading level0 row1\" >1</th>\n",
              "                        <td id=\"T_7982a5f0_73e8_11ec_8b5d_0242ac1c0002row1_col0\" class=\"data row1 col0\" >Ridge Linear</td>\n",
              "                        <td id=\"T_7982a5f0_73e8_11ec_8b5d_0242ac1c0002row1_col1\" class=\"data row1 col1\" >4</td>\n",
              "                        <td id=\"T_7982a5f0_73e8_11ec_8b5d_0242ac1c0002row1_col2\" class=\"data row1 col2\" >0.008529</td>\n",
              "                        <td id=\"T_7982a5f0_73e8_11ec_8b5d_0242ac1c0002row1_col3\" class=\"data row1 col3\" >0.008766</td>\n",
              "            </tr>\n",
              "    </tbody></table>"
            ],
            "text/plain": [
              "<pandas.io.formats.style.Styler at 0x7f3b4af5c710>"
            ]
          },
          "metadata": {},
          "execution_count": 27
        }
      ]
    },
    {
      "cell_type": "markdown",
      "source": [
        "**<u>Task:</u>** Using the best performing hyperparameter, retrain a regressor on the entire training set.</br>\n",
        "Save this regressor for future use (Section 7)."
      ],
      "metadata": {
        "id": "qSsMS_amOrel"
      }
    },
    {
      "cell_type": "code",
      "source": [
        "curr_section = 4\n",
        "ridge_clf = Ridge(alpha=opt_alpha, fit_intercept=True)\n",
        "_ = ridge_clf.fit(X=np.array(train.drop(labels='VirusScore', axis=1)), y = np.array(train.VirusScore))\n",
        "\n",
        "section_to_clf[curr_section] = ridge_clf"
      ],
      "metadata": {
        "id": "NMSBLhDEOwcc"
      },
      "execution_count": 28,
      "outputs": []
    },
    {
      "cell_type": "markdown",
      "source": [
        "##**<u>Q9:</u>**"
      ],
      "metadata": {
        "id": "D18WhT70Pdwg"
      }
    },
    {
      "cell_type": "markdown",
      "source": [
        "Specify the 5 features that have the 5 largest coefficients (in absolute value) in the resulting regressor, from the largest to the smallest (among these 5)."
      ],
      "metadata": {
        "id": "W56GPrajPftV"
      }
    },
    {
      "cell_type": "code",
      "source": [
        "feature_coefs = sorted(list(zip(train.drop(labels='VirusScore', axis=1).columns, np.absolute(ridge_clf.coef_))), key=lambda x: x[1], reverse=True)\n",
        "print(\"\\033[4m\\033[1mThe coefficients of the features from largest to smallest:\\033[0m\")\n",
        "for feature, coef in feature_coefs:\n",
        "  print(f'\\033[1m{feature}:\\033[0m {coef}')"
      ],
      "metadata": {
        "id": "-kogbUZhPwlR",
        "colab": {
          "base_uri": "https://localhost:8080/"
        },
        "outputId": "5bf270a0-ba94-436a-e40c-d0e47f557e41"
      },
      "execution_count": 29,
      "outputs": [
        {
          "output_type": "stream",
          "name": "stdout",
          "text": [
            "\u001b[4m\u001b[1mThe coefficients of the features from largest to smallest:\u001b[0m\n",
            "\u001b[1mshortness_of_breath:\u001b[0m 0.26013014768364356\n",
            "\u001b[1mnum_of_siblings:\u001b[0m 0.1568525232233156\n",
            "\u001b[1mfever:\u001b[0m 0.11588194816841985\n",
            "\u001b[1mcontains_blood_A:\u001b[0m 0.09471740598990383\n",
            "\u001b[1mhousehold_income:\u001b[0m 0.03064982251128325\n",
            "\u001b[1mzip_code:\u001b[0m 0.016345370714030482\n",
            "\u001b[1mPCR_07:\u001b[0m 0.0036101625265552027\n",
            "\u001b[1mPCR_05:\u001b[0m 0.003263570912079673\n",
            "\u001b[1mPCR_06:\u001b[0m 0.003129233624604099\n",
            "\u001b[1mPCR_10:\u001b[0m 0.0028837172706578894\n",
            "\u001b[1mPCR_03:\u001b[0m 0.0009126766364447584\n",
            "\u001b[1msugar_levels:\u001b[0m 0.0006642841602638649\n",
            "\u001b[1mPCR_02:\u001b[0m 0.0004935429138590376\n",
            "\u001b[1mPCR_01:\u001b[0m 0.000400410829616719\n"
          ]
        }
      ]
    },
    {
      "cell_type": "markdown",
      "source": [
        "##**<u>Q10:</u>**"
      ],
      "metadata": {
        "id": "DkIp4UjbToQd"
      }
    },
    {
      "cell_type": "markdown",
      "source": [
        "Sort and plot the absolute values of the learned coefficients. The x-axis should be the index of the parameter from largest to smallest."
      ],
      "metadata": {
        "id": "mhiWQpcVTpQe"
      }
    },
    {
      "cell_type": "code",
      "source": [
        "sns.set(rc={'figure.figsize':(17,7)})\n",
        "sns.set_style('whitegrid')\n",
        "ax1 = sns.lineplot(data=np.array([coef for _, coef in feature_coefs]),\n",
        "                 ci=None, label='Coefficient', marker='o')\n",
        "ax1.set(xlabel='Index', ylabel='Absolute Value')\n",
        "ax1.legend()\n",
        "_ = plt.title('Feature Absolute Values', fontsize=20, fontweight='bold')"
      ],
      "metadata": {
        "id": "30IQCcN6Tscx",
        "colab": {
          "base_uri": "https://localhost:8080/",
          "height": 469
        },
        "outputId": "6e0c8c3f-e78d-4cb9-9c67-a188179c5dbd"
      },
      "execution_count": 30,
      "outputs": [
        {
          "output_type": "display_data",
          "data": {
            "image/png": "[encoded data removed]",
            "text/plain": [
              "<Figure size 1224x504 with 1 Axes>"
            ]
          },
          "metadata": {}
        }
      ]
    },
    {
      "cell_type": "markdown",
      "source": [
        "#<u>**Section 5: Lasso linear regression**</u>"
      ],
      "metadata": {
        "id": "gxcRsUWBWEUJ"
      }
    },
    {
      "cell_type": "markdown",
      "source": [
        "In this section, follow the same instructions as in the previous section, with one difference – instead of the `Ridge` regressor, use the `sklearn.linear_model.Lasso` regressor."
      ],
      "metadata": {
        "id": "y4a9fRErWXCl"
      }
    },
    {
      "cell_type": "markdown",
      "source": [
        "##**<u>Q11:</u>**"
      ],
      "metadata": {
        "id": "5S6Fzs3CWefL"
      }
    },
    {
      "cell_type": "markdown",
      "source": [
        "Tune the regularization strength of the regressor.</br>\n",
        "Remember to attach the required plot and the optimal strength with its validation error."
      ],
      "metadata": {
        "id": "ILRy1gfPWfL5"
      }
    },
    {
      "cell_type": "code",
      "source": [
        "val_scores = dict()\n",
        "train_scores = dict()\n",
        "\n",
        "for a in np.logspace(-13, 0, 30, base=2.0):\n",
        "  res = cross_validate(Lasso(alpha=a, fit_intercept=True), X=np.array(train.drop(labels='VirusScore', axis=1)), y = np.array(train.VirusScore), cv = 5, scoring='neg_mean_squared_error', n_jobs = -1, return_train_score = True)\n",
        "  val_scores[a] = -res['test_score'].mean()\n",
        "  train_scores[a] = -res['train_score'].mean()\n",
        "\n",
        "to_plot = pd.DataFrame(data={'alpha': train_scores.keys(), \n",
        "                             'Validation Error': [val for _, val in val_scores.items()], \n",
        "                             'Training Error': [val for _, val in train_scores.items()],\n",
        "                             'Dummy Validation Error': [dummy_val_error for _ in train_scores.keys()]\n",
        "                             })\n",
        "to_plot"
      ],
      "metadata": {
        "id": "KuPKKi9aWkMo",
        "colab": {
          "base_uri": "https://localhost:8080/",
          "height": 990
        },
        "outputId": "f1c6e13f-1b26-4dea-dc09-68c8a1f8a3e3"
      },
      "execution_count": 31,
      "outputs": [
        {
          "output_type": "execute_result",
          "data": {
            "text/html": [
              "\n",
              "  <div id=\"df-f433ab3f-aa97-4d92-bdcc-c4de8450aa11\">\n",
              "    <div class=\"colab-df-container\">\n",
              "      <div>\n",
              "<style scoped>\n",
              "    .dataframe tbody tr th:only-of-type {\n",
              "        vertical-align: middle;\n",
              "    }\n",
              "\n",
              "    .dataframe tbody tr th {\n",
              "        vertical-align: top;\n",
              "    }\n",
              "\n",
              "    .dataframe thead th {\n",
              "        text-align: right;\n",
              "    }\n",
              "</style>\n",
              "<table border=\"1\" class=\"dataframe\">\n",
              "  <thead>\n",
              "    <tr style=\"text-align: right;\">\n",
              "      <th></th>\n",
              "      <th>alpha</th>\n",
              "      <th>Validation Error</th>\n",
              "      <th>Training Error</th>\n",
              "      <th>Dummy Validation Error</th>\n",
              "    </tr>\n",
              "  </thead>\n",
              "  <tbody>\n",
              "    <tr>\n",
              "      <th>0</th>\n",
              "      <td>0.000122</td>\n",
              "      <td>0.008766</td>\n",
              "      <td>0.008530</td>\n",
              "      <td>0.019716</td>\n",
              "    </tr>\n",
              "    <tr>\n",
              "      <th>1</th>\n",
              "      <td>0.000167</td>\n",
              "      <td>0.008766</td>\n",
              "      <td>0.008531</td>\n",
              "      <td>0.019716</td>\n",
              "    </tr>\n",
              "    <tr>\n",
              "      <th>2</th>\n",
              "      <td>0.000227</td>\n",
              "      <td>0.008766</td>\n",
              "      <td>0.008533</td>\n",
              "      <td>0.019716</td>\n",
              "    </tr>\n",
              "    <tr>\n",
              "      <th>3</th>\n",
              "      <td>0.000310</td>\n",
              "      <td>0.008768</td>\n",
              "      <td>0.008537</td>\n",
              "      <td>0.019716</td>\n",
              "    </tr>\n",
              "    <tr>\n",
              "      <th>4</th>\n",
              "      <td>0.000423</td>\n",
              "      <td>0.008772</td>\n",
              "      <td>0.008544</td>\n",
              "      <td>0.019716</td>\n",
              "    </tr>\n",
              "    <tr>\n",
              "      <th>5</th>\n",
              "      <td>0.000577</td>\n",
              "      <td>0.008780</td>\n",
              "      <td>0.008557</td>\n",
              "      <td>0.019716</td>\n",
              "    </tr>\n",
              "    <tr>\n",
              "      <th>6</th>\n",
              "      <td>0.000788</td>\n",
              "      <td>0.008796</td>\n",
              "      <td>0.008581</td>\n",
              "      <td>0.019716</td>\n",
              "    </tr>\n",
              "    <tr>\n",
              "      <th>7</th>\n",
              "      <td>0.001075</td>\n",
              "      <td>0.008829</td>\n",
              "      <td>0.008625</td>\n",
              "      <td>0.019716</td>\n",
              "    </tr>\n",
              "    <tr>\n",
              "      <th>8</th>\n",
              "      <td>0.001466</td>\n",
              "      <td>0.008883</td>\n",
              "      <td>0.008694</td>\n",
              "      <td>0.019716</td>\n",
              "    </tr>\n",
              "    <tr>\n",
              "      <th>9</th>\n",
              "      <td>0.002000</td>\n",
              "      <td>0.008973</td>\n",
              "      <td>0.008802</td>\n",
              "      <td>0.019716</td>\n",
              "    </tr>\n",
              "    <tr>\n",
              "      <th>10</th>\n",
              "      <td>0.002729</td>\n",
              "      <td>0.009121</td>\n",
              "      <td>0.008963</td>\n",
              "      <td>0.019716</td>\n",
              "    </tr>\n",
              "    <tr>\n",
              "      <th>11</th>\n",
              "      <td>0.003724</td>\n",
              "      <td>0.009401</td>\n",
              "      <td>0.009250</td>\n",
              "      <td>0.019716</td>\n",
              "    </tr>\n",
              "    <tr>\n",
              "      <th>12</th>\n",
              "      <td>0.005081</td>\n",
              "      <td>0.009924</td>\n",
              "      <td>0.009783</td>\n",
              "      <td>0.019716</td>\n",
              "    </tr>\n",
              "    <tr>\n",
              "      <th>13</th>\n",
              "      <td>0.006932</td>\n",
              "      <td>0.010910</td>\n",
              "      <td>0.010767</td>\n",
              "      <td>0.019716</td>\n",
              "    </tr>\n",
              "    <tr>\n",
              "      <th>14</th>\n",
              "      <td>0.009459</td>\n",
              "      <td>0.012290</td>\n",
              "      <td>0.012173</td>\n",
              "      <td>0.019716</td>\n",
              "    </tr>\n",
              "    <tr>\n",
              "      <th>15</th>\n",
              "      <td>0.012906</td>\n",
              "      <td>0.014010</td>\n",
              "      <td>0.013898</td>\n",
              "      <td>0.019716</td>\n",
              "    </tr>\n",
              "    <tr>\n",
              "      <th>16</th>\n",
              "      <td>0.017608</td>\n",
              "      <td>0.016251</td>\n",
              "      <td>0.016119</td>\n",
              "      <td>0.019716</td>\n",
              "    </tr>\n",
              "    <tr>\n",
              "      <th>17</th>\n",
              "      <td>0.024025</td>\n",
              "      <td>0.019638</td>\n",
              "      <td>0.019554</td>\n",
              "      <td>0.019716</td>\n",
              "    </tr>\n",
              "    <tr>\n",
              "      <th>18</th>\n",
              "      <td>0.032780</td>\n",
              "      <td>0.019716</td>\n",
              "      <td>0.019663</td>\n",
              "      <td>0.019716</td>\n",
              "    </tr>\n",
              "    <tr>\n",
              "      <th>19</th>\n",
              "      <td>0.044725</td>\n",
              "      <td>0.019716</td>\n",
              "      <td>0.019663</td>\n",
              "      <td>0.019716</td>\n",
              "    </tr>\n",
              "    <tr>\n",
              "      <th>20</th>\n",
              "      <td>0.061024</td>\n",
              "      <td>0.019716</td>\n",
              "      <td>0.019663</td>\n",
              "      <td>0.019716</td>\n",
              "    </tr>\n",
              "    <tr>\n",
              "      <th>21</th>\n",
              "      <td>0.083261</td>\n",
              "      <td>0.019716</td>\n",
              "      <td>0.019663</td>\n",
              "      <td>0.019716</td>\n",
              "    </tr>\n",
              "    <tr>\n",
              "      <th>22</th>\n",
              "      <td>0.113603</td>\n",
              "      <td>0.019716</td>\n",
              "      <td>0.019663</td>\n",
              "      <td>0.019716</td>\n",
              "    </tr>\n",
              "    <tr>\n",
              "      <th>23</th>\n",
              "      <td>0.155001</td>\n",
              "      <td>0.019716</td>\n",
              "      <td>0.019663</td>\n",
              "      <td>0.019716</td>\n",
              "    </tr>\n",
              "    <tr>\n",
              "      <th>24</th>\n",
              "      <td>0.211484</td>\n",
              "      <td>0.019716</td>\n",
              "      <td>0.019663</td>\n",
              "      <td>0.019716</td>\n",
              "    </tr>\n",
              "    <tr>\n",
              "      <th>25</th>\n",
              "      <td>0.288551</td>\n",
              "      <td>0.019716</td>\n",
              "      <td>0.019663</td>\n",
              "      <td>0.019716</td>\n",
              "    </tr>\n",
              "    <tr>\n",
              "      <th>26</th>\n",
              "      <td>0.393701</td>\n",
              "      <td>0.019716</td>\n",
              "      <td>0.019663</td>\n",
              "      <td>0.019716</td>\n",
              "    </tr>\n",
              "    <tr>\n",
              "      <th>27</th>\n",
              "      <td>0.537169</td>\n",
              "      <td>0.019716</td>\n",
              "      <td>0.019663</td>\n",
              "      <td>0.019716</td>\n",
              "    </tr>\n",
              "    <tr>\n",
              "      <th>28</th>\n",
              "      <td>0.732918</td>\n",
              "      <td>0.019716</td>\n",
              "      <td>0.019663</td>\n",
              "      <td>0.019716</td>\n",
              "    </tr>\n",
              "    <tr>\n",
              "      <th>29</th>\n",
              "      <td>1.000000</td>\n",
              "      <td>0.019716</td>\n",
              "      <td>0.019663</td>\n",
              "      <td>0.019716</td>\n",
              "    </tr>\n",
              "  </tbody>\n",
              "</table>\n",
              "</div>\n",
              "      <button class=\"colab-df-convert\" onclick=\"convertToInteractive('df-f433ab3f-aa97-4d92-bdcc-c4de8450aa11')\"\n",
              "              title=\"Convert this dataframe to an interactive table.\"\n",
              "              style=\"display:none;\">\n",
              "        \n",
              "  <svg xmlns=\"http://www.w3.org/2000/svg\" height=\"24px\"viewBox=\"0 0 24 24\"\n",
              "       width=\"24px\">\n",
              "    <path d=\"M0 0h24v24H0V0z\" fill=\"none\"/>\n",
              "    <path d=\"M18.56 5.44l.94 2.06.94-2.06 2.06-.94-2.06-.94-.94-2.06-.94 2.06-2.06.94zm-11 1L8.5 8.5l.94-2.06 2.06-.94-2.06-.94L8.5 2.5l-.94 2.06-2.06.94zm10 10l.94 2.06.94-2.06 2.06-.94-2.06-.94-.94-2.06-.94 2.06-2.06.94z\"/><path d=\"M17.41 7.96l-1.37-1.37c-.4-.4-.92-.59-1.43-.59-.52 0-1.04.2-1.43.59L10.3 9.45l-7.72 7.72c-.78.78-.78 2.05 0 2.83L4 21.41c.39.39.9.59 1.41.59.51 0 1.02-.2 1.41-.59l7.78-7.78 2.81-2.81c.8-.78.8-2.07 0-2.86zM5.41 20L4 18.59l7.72-7.72 1.47 1.35L5.41 20z\"/>\n",
              "  </svg>\n",
              "      </button>\n",
              "      \n",
              "  <style>\n",
              "    .colab-df-container {\n",
              "      display:flex;\n",
              "      flex-wrap:wrap;\n",
              "      gap: 12px;\n",
              "    }\n",
              "\n",
              "    .colab-df-convert {\n",
              "      background-color: #E8F0FE;\n",
              "      border: none;\n",
              "      border-radius: 50%;\n",
              "      cursor: pointer;\n",
              "      display: none;\n",
              "      fill: #1967D2;\n",
              "      height: 32px;\n",
              "      padding: 0 0 0 0;\n",
              "      width: 32px;\n",
              "    }\n",
              "\n",
              "    .colab-df-convert:hover {\n",
              "      background-color: #E2EBFA;\n",
              "      box-shadow: 0px 1px 2px rgba(60, 64, 67, 0.3), 0px 1px 3px 1px rgba(60, 64, 67, 0.15);\n",
              "      fill: #174EA6;\n",
              "    }\n",
              "\n",
              "    [theme=dark] .colab-df-convert {\n",
              "      background-color: #3B4455;\n",
              "      fill: #D2E3FC;\n",
              "    }\n",
              "\n",
              "    [theme=dark] .colab-df-convert:hover {\n",
              "      background-color: #434B5C;\n",
              "      box-shadow: 0px 1px 3px 1px rgba(0, 0, 0, 0.15);\n",
              "      filter: drop-shadow(0px 1px 2px rgba(0, 0, 0, 0.3));\n",
              "      fill: #FFFFFF;\n",
              "    }\n",
              "  </style>\n",
              "\n",
              "      <script>\n",
              "        const buttonEl =\n",
              "          document.querySelector('#df-f433ab3f-aa97-4d92-bdcc-c4de8450aa11 button.colab-df-convert');\n",
              "        buttonEl.style.display =\n",
              "          google.colab.kernel.accessAllowed ? 'block' : 'none';\n",
              "\n",
              "        async function convertToInteractive(key) {\n",
              "          const element = document.querySelector('#df-f433ab3f-aa97-4d92-bdcc-c4de8450aa11');\n",
              "          const dataTable =\n",
              "            await google.colab.kernel.invokeFunction('convertToInteractive',\n",
              "                                                     [key], {});\n",
              "          if (!dataTable) return;\n",
              "\n",
              "          const docLinkHtml = 'Like what you see? Visit the ' +\n",
              "            '<a target=\"_blank\" href=https://colab.research.google.com/notebooks/data_table.ipynb>data table notebook</a>'\n",
              "            + ' to learn more about interactive tables.';\n",
              "          element.innerHTML = '';\n",
              "          dataTable['output_type'] = 'display_data';\n",
              "          await google.colab.output.renderOutput(dataTable, element);\n",
              "          const docLink = document.createElement('div');\n",
              "          docLink.innerHTML = docLinkHtml;\n",
              "          element.appendChild(docLink);\n",
              "        }\n",
              "      </script>\n",
              "    </div>\n",
              "  </div>\n",
              "  "
            ],
            "text/plain": [
              "       alpha  Validation Error  Training Error  Dummy Validation Error\n",
              "0   0.000122          0.008766        0.008530                0.019716\n",
              "1   0.000167          0.008766        0.008531                0.019716\n",
              "2   0.000227          0.008766        0.008533                0.019716\n",
              "3   0.000310          0.008768        0.008537                0.019716\n",
              "4   0.000423          0.008772        0.008544                0.019716\n",
              "5   0.000577          0.008780        0.008557                0.019716\n",
              "6   0.000788          0.008796        0.008581                0.019716\n",
              "7   0.001075          0.008829        0.008625                0.019716\n",
              "8   0.001466          0.008883        0.008694                0.019716\n",
              "9   0.002000          0.008973        0.008802                0.019716\n",
              "10  0.002729          0.009121        0.008963                0.019716\n",
              "11  0.003724          0.009401        0.009250                0.019716\n",
              "12  0.005081          0.009924        0.009783                0.019716\n",
              "13  0.006932          0.010910        0.010767                0.019716\n",
              "14  0.009459          0.012290        0.012173                0.019716\n",
              "15  0.012906          0.014010        0.013898                0.019716\n",
              "16  0.017608          0.016251        0.016119                0.019716\n",
              "17  0.024025          0.019638        0.019554                0.019716\n",
              "18  0.032780          0.019716        0.019663                0.019716\n",
              "19  0.044725          0.019716        0.019663                0.019716\n",
              "20  0.061024          0.019716        0.019663                0.019716\n",
              "21  0.083261          0.019716        0.019663                0.019716\n",
              "22  0.113603          0.019716        0.019663                0.019716\n",
              "23  0.155001          0.019716        0.019663                0.019716\n",
              "24  0.211484          0.019716        0.019663                0.019716\n",
              "25  0.288551          0.019716        0.019663                0.019716\n",
              "26  0.393701          0.019716        0.019663                0.019716\n",
              "27  0.537169          0.019716        0.019663                0.019716\n",
              "28  0.732918          0.019716        0.019663                0.019716\n",
              "29  1.000000          0.019716        0.019663                0.019716"
            ]
          },
          "metadata": {},
          "execution_count": 31
        }
      ]
    },
    {
      "cell_type": "code",
      "source": [
        "sns.set(rc={'figure.figsize':(11.7,8.27)})\n",
        "sns.set_style('whitegrid')\n",
        "ax1 = sns.lineplot(x=\"alpha\", y=\"Validation Error\", data=to_plot,\n",
        "                 ci=None, label='Validation Error', marker='o')\n",
        "sns.lineplot(x=\"alpha\", y=\"Training Error\", data=to_plot,\n",
        "                 ci=None, label='Training Error', marker='o', ax=ax1)\n",
        "sns.lineplot(x=\"alpha\", y=\"Dummy Validation Error\", data=to_plot,\n",
        "                 ci=None, label='Dummy Validation Error', marker='o', ax=ax1)\n",
        "ax1.set(xlabel='alpha', ylabel='MSE', xscale='log')\n",
        "ax1.legend()\n",
        "_ = plt.title('Lasso Validation Plot', fontsize=20, fontweight='bold')"
      ],
      "metadata": {
        "id": "GpJQ1xkLYQSX",
        "colab": {
          "base_uri": "https://localhost:8080/",
          "height": 545
        },
        "outputId": "d79a8479-b1bb-4316-b572-d857e053ebf5"
      },
      "execution_count": 32,
      "outputs": [
        {
          "output_type": "display_data",
          "data": {
            "image/png": "[encoded data removed]",
            "text/plain": [
              "<Figure size 842.4x595.44 with 1 Axes>"
            ]
          },
          "metadata": {}
        }
      ]
    },
    {
      "cell_type": "markdown",
      "source": [
        "We will now zoom in a portion of the graph we suspect to have a minimum validation error value at."
      ],
      "metadata": {
        "id": "xi9Yima7NWCe"
      }
    },
    {
      "cell_type": "code",
      "source": [
        "val_scores = dict()\n",
        "train_scores = dict()\n",
        "\n",
        "for a in np.logspace(-13.1, -12.9, 100, base=2.0):\n",
        "  res = cross_validate(Lasso(alpha=a, fit_intercept=True), X=np.array(train.drop(labels='VirusScore', axis=1)), y = np.array(train.VirusScore), cv = 5, scoring='neg_mean_squared_error', n_jobs = -1, return_train_score = True)\n",
        "  val_scores[a] = -res['test_score'].mean()\n",
        "  train_scores[a] = -res['train_score'].mean()\n",
        "\n",
        "to_plot = pd.DataFrame(data={'alpha': train_scores.keys(), \n",
        "                             'Validation Error': [val for _, val in val_scores.items()], \n",
        "                             'Training Error': [val for _, val in train_scores.items()],\n",
        "                             'Dummy Validation Error': [dummy_val_error for _ in train_scores.keys()]\n",
        "                             })"
      ],
      "metadata": {
        "id": "Pc4nRWouNU-Y"
      },
      "execution_count": 33,
      "outputs": []
    },
    {
      "cell_type": "code",
      "source": [
        "sns.set(rc={'figure.figsize':(11.7,8.27)})\n",
        "sns.set_style('whitegrid')\n",
        "ax1 = sns.lineplot(x=\"alpha\", y=\"Validation Error\", data=to_plot,\n",
        "                 ci=None, label='Validation Error', marker='o')\n",
        "ax1.set(xlabel='alpha', ylabel='MSE', xscale='log')\n",
        "ax1.legend()\n",
        "_ = plt.title('Lasso Validation Plot', fontsize=20, fontweight='bold')"
      ],
      "metadata": {
        "id": "0owwZoW6NjJU",
        "colab": {
          "base_uri": "https://localhost:8080/",
          "height": 542
        },
        "outputId": "829419e4-cacf-4436-f5de-5045525ffa6c"
      },
      "execution_count": 34,
      "outputs": [
        {
          "output_type": "display_data",
          "data": {
            "image/png": "[encoded data removed]",
            "text/plain": [
              "<Figure size 842.4x595.44 with 1 Axes>"
            ]
          },
          "metadata": {}
        }
      ]
    },
    {
      "cell_type": "code",
      "source": [
        "validation_min = sorted(val_scores.items(), key=lambda x: (x[1], x[0]))[0]\n",
        "print(f'Optimal alpha: {validation_min[0]}\\nOptimal validation MSE: {validation_min[1]}')\n",
        "opt_alpha = validation_min[0]"
      ],
      "metadata": {
        "id": "3kNb4I_NNjJU",
        "colab": {
          "base_uri": "https://localhost:8080/"
        },
        "outputId": "739f0f1b-5b12-4090-ba74-7ff3617dee0e"
      },
      "execution_count": 35,
      "outputs": [
        {
          "output_type": "stream",
          "name": "stdout",
          "text": [
            "Optimal alpha: 0.00012335907861260657\n",
            "Optimal validation MSE: 0.00876570936895467\n"
          ]
        }
      ]
    },
    {
      "cell_type": "markdown",
      "source": [
        "##**<u>Q13:</u>**"
      ],
      "metadata": {
        "id": "qjbTqTTmh6pw"
      }
    },
    {
      "cell_type": "markdown",
      "source": [
        "Fill in the cross-validated errors of the regressor yielded by the optimal hyperparameter."
      ],
      "metadata": {
        "id": "3vJFlX_1h8rv"
      }
    },
    {
      "cell_type": "code",
      "source": [
        "model_table.loc[2] = ['Lasso Linear', 5, train_scores[validation_min[0]], validation_min[1]]\n",
        "model_table.style.set_caption(\"Models Scoring Table\").set_table_styles([{\n",
        "    'selector': 'caption',\n",
        "    'props': [\n",
        "        ('font-size', '20px'),\n",
        "        ('font-weight', 'bold')\n",
        "    ]\n",
        "}])"
      ],
      "metadata": {
        "id": "VZ8EfN_FiAep",
        "colab": {
          "base_uri": "https://localhost:8080/",
          "height": 168
        },
        "outputId": "4ad55f6d-6567-4095-8730-62cb1ad9ffe1"
      },
      "execution_count": 36,
      "outputs": [
        {
          "output_type": "execute_result",
          "data": {
            "text/html": [
              "<style  type=\"text/css\" >\n",
              "    #T_7d45bf92_73e8_11ec_8b5d_0242ac1c0002 caption {\n",
              "          font-size: 20px;\n",
              "          font-weight: bold;\n",
              "    }</style><table id=\"T_7d45bf92_73e8_11ec_8b5d_0242ac1c0002\" class=\"dataframe\"><caption>Models Scoring Table</caption><thead>    <tr>        <th class=\"blank level0\" ></th>        <th class=\"col_heading level0 col0\" >Model</th>        <th class=\"col_heading level0 col1\" >Section</th>        <th class=\"col_heading level0 col2\" >Train MSE</th>        <th class=\"col_heading level0 col3\" >Valid MSE</th>    </tr></thead><tbody>\n",
              "                <tr>\n",
              "                        <th id=\"T_7d45bf92_73e8_11ec_8b5d_0242ac1c0002level0_row0\" class=\"row_heading level0 row0\" >0</th>\n",
              "                        <td id=\"T_7d45bf92_73e8_11ec_8b5d_0242ac1c0002row0_col0\" class=\"data row0 col0\" >Dummy</td>\n",
              "                        <td id=\"T_7d45bf92_73e8_11ec_8b5d_0242ac1c0002row0_col1\" class=\"data row0 col1\" >3</td>\n",
              "                        <td id=\"T_7d45bf92_73e8_11ec_8b5d_0242ac1c0002row0_col2\" class=\"data row0 col2\" >0.019663</td>\n",
              "                        <td id=\"T_7d45bf92_73e8_11ec_8b5d_0242ac1c0002row0_col3\" class=\"data row0 col3\" >0.019716</td>\n",
              "            </tr>\n",
              "            <tr>\n",
              "                        <th id=\"T_7d45bf92_73e8_11ec_8b5d_0242ac1c0002level0_row1\" class=\"row_heading level0 row1\" >1</th>\n",
              "                        <td id=\"T_7d45bf92_73e8_11ec_8b5d_0242ac1c0002row1_col0\" class=\"data row1 col0\" >Ridge Linear</td>\n",
              "                        <td id=\"T_7d45bf92_73e8_11ec_8b5d_0242ac1c0002row1_col1\" class=\"data row1 col1\" >4</td>\n",
              "                        <td id=\"T_7d45bf92_73e8_11ec_8b5d_0242ac1c0002row1_col2\" class=\"data row1 col2\" >0.008529</td>\n",
              "                        <td id=\"T_7d45bf92_73e8_11ec_8b5d_0242ac1c0002row1_col3\" class=\"data row1 col3\" >0.008766</td>\n",
              "            </tr>\n",
              "            <tr>\n",
              "                        <th id=\"T_7d45bf92_73e8_11ec_8b5d_0242ac1c0002level0_row2\" class=\"row_heading level0 row2\" >2</th>\n",
              "                        <td id=\"T_7d45bf92_73e8_11ec_8b5d_0242ac1c0002row2_col0\" class=\"data row2 col0\" >Lasso Linear</td>\n",
              "                        <td id=\"T_7d45bf92_73e8_11ec_8b5d_0242ac1c0002row2_col1\" class=\"data row2 col1\" >5</td>\n",
              "                        <td id=\"T_7d45bf92_73e8_11ec_8b5d_0242ac1c0002row2_col2\" class=\"data row2 col2\" >0.008530</td>\n",
              "                        <td id=\"T_7d45bf92_73e8_11ec_8b5d_0242ac1c0002row2_col3\" class=\"data row2 col3\" >0.008766</td>\n",
              "            </tr>\n",
              "    </tbody></table>"
            ],
            "text/plain": [
              "<pandas.io.formats.style.Styler at 0x7f3b4b097c90>"
            ]
          },
          "metadata": {},
          "execution_count": 36
        }
      ]
    },
    {
      "cell_type": "markdown",
      "source": [
        "<u>**Task:**</u> Using the best performing hyperparameter, retrain a regressor on the entire training set."
      ],
      "metadata": {
        "id": "ixZaiVSmizaT"
      }
    },
    {
      "cell_type": "code",
      "source": [
        "curr_section = 5\n",
        "lasso_clf = Ridge(alpha=opt_alpha, fit_intercept=True)\n",
        "_ = lasso_clf.fit(X=np.array(train.drop(labels='VirusScore', axis=1)), y = np.array(train.VirusScore))\n",
        "\n",
        "section_to_clf[curr_section] = lasso_clf"
      ],
      "metadata": {
        "id": "5_CFL62_i3Ai"
      },
      "execution_count": 37,
      "outputs": []
    },
    {
      "cell_type": "markdown",
      "source": [
        "##**<u>Q14:</u>**"
      ],
      "metadata": {
        "id": "COXDa8PEjujz"
      }
    },
    {
      "cell_type": "markdown",
      "source": [
        "Specify the 5 features that have the 5 largest coefficients (in absolute value) in the resulting regressor, from the largest to the smallest (among these 5)."
      ],
      "metadata": {
        "id": "-IOKTXg7jwij"
      }
    },
    {
      "cell_type": "code",
      "source": [
        "feature_coefs = sorted(list(zip(train.drop(labels='VirusScore', axis=1).columns, np.absolute(lasso_clf.coef_))), key=lambda x: x[1], reverse=True)\n",
        "print(\"\\033[4m\\033[1mThe coefficients of the features from largest to smallest:\\033[0m\")\n",
        "for feature, coef in feature_coefs:\n",
        "  print(f'\\033[1m{feature}:\\033[0m {coef}')"
      ],
      "metadata": {
        "id": "f1gjyzQqjzQp",
        "colab": {
          "base_uri": "https://localhost:8080/"
        },
        "outputId": "eb19607f-daeb-48d0-f2b5-085ce608b722"
      },
      "execution_count": 38,
      "outputs": [
        {
          "output_type": "stream",
          "name": "stdout",
          "text": [
            "\u001b[4m\u001b[1mThe coefficients of the features from largest to smallest:\u001b[0m\n",
            "\u001b[1mshortness_of_breath:\u001b[0m 0.26202545958158036\n",
            "\u001b[1mnum_of_siblings:\u001b[0m 0.15874239499820997\n",
            "\u001b[1mfever:\u001b[0m 0.11657435372190117\n",
            "\u001b[1mcontains_blood_A:\u001b[0m 0.0949289544702801\n",
            "\u001b[1mhousehold_income:\u001b[0m 0.0310598190122405\n",
            "\u001b[1mzip_code:\u001b[0m 0.0165634509793852\n",
            "\u001b[1mPCR_07:\u001b[0m 0.0035999158962014377\n",
            "\u001b[1mPCR_05:\u001b[0m 0.0032683701881448344\n",
            "\u001b[1mPCR_06:\u001b[0m 0.0031333722741853937\n",
            "\u001b[1mPCR_10:\u001b[0m 0.002865268028971713\n",
            "\u001b[1mPCR_03:\u001b[0m 0.0008893573801835656\n",
            "\u001b[1msugar_levels:\u001b[0m 0.000659855085259372\n",
            "\u001b[1mPCR_02:\u001b[0m 0.00047041012874389536\n",
            "\u001b[1mPCR_01:\u001b[0m 0.00041313632765113966\n"
          ]
        }
      ]
    },
    {
      "cell_type": "markdown",
      "source": [
        "##**<u>Q15:</u>**"
      ],
      "metadata": {
        "id": "bo1GHcvakx5d"
      }
    },
    {
      "cell_type": "markdown",
      "source": [
        "Again, sort and plot the absolute value of the learned coefficients. The x-axis should be the index of the parameter from largest to smallest.</br>\n",
        "Compare the coefficients obtained here to the ones of the Ridge regressor from (Q10)."
      ],
      "metadata": {
        "id": "E_a5t_mHkz_I"
      }
    },
    {
      "cell_type": "code",
      "source": [
        "sns.set(rc={'figure.figsize':(17,7)})\n",
        "sns.set_style('whitegrid')\n",
        "ax1 = sns.lineplot(data=np.array([coef for _, coef in feature_coefs]),\n",
        "                 ci=None, label='Coefficient', marker='o')\n",
        "ax1.set(xlabel='Index', ylabel='Absolute Value')\n",
        "ax1.legend()\n",
        "_ = plt.title('Feature Absolute Values', fontsize=20, fontweight='bold')"
      ],
      "metadata": {
        "id": "hxW5RcwFkx94",
        "colab": {
          "base_uri": "https://localhost:8080/",
          "height": 469
        },
        "outputId": "7e6f9c31-f1a1-42f1-fe75-1051e467a48a"
      },
      "execution_count": 39,
      "outputs": [
        {
          "output_type": "display_data",
          "data": {
            "image/png": "[encoded data removed]",
            "text/plain": [
              "<Figure size 1224x504 with 1 Axes>"
            ]
          },
          "metadata": {}
        }
      ]
    },
    {
      "cell_type": "markdown",
      "source": [
        "#<u>**Section 6: Polynomial fitting**</u>"
      ],
      "metadata": {
        "id": "AIwxHwRRqOFf"
      }
    },
    {
      "cell_type": "markdown",
      "source": [
        "<u>**Task:**</u> Create copies of your train and test sets. Add 2nd-degree polynomial features (`degree=2, include_bias=False`)."
      ],
      "metadata": {
        "id": "w31fZJfMqQgP"
      }
    },
    {
      "cell_type": "code",
      "source": [
        "poly = PolynomialFeatures(degree=2, include_bias=False)\n",
        "poly_train = poly.fit_transform(X=train.drop(labels='VirusScore', axis=1))\n",
        "poly_test = poly.fit_transform(X=test.drop(labels='VirusScore', axis=1))\n",
        "poly_train.shape"
      ],
      "metadata": {
        "id": "7AS-p46uqeo5",
        "colab": {
          "base_uri": "https://localhost:8080/"
        },
        "outputId": "4632bf6f-4da4-4531-dbac-e5070633851c"
      },
      "execution_count": 40,
      "outputs": [
        {
          "output_type": "execute_result",
          "data": {
            "text/plain": [
              "(2400, 119)"
            ]
          },
          "metadata": {},
          "execution_count": 40
        }
      ]
    },
    {
      "cell_type": "markdown",
      "source": [
        "##**<u>Q18:</u>**"
      ],
      "metadata": {
        "id": "v5Yn9o4rqZLn"
      }
    },
    {
      "cell_type": "markdown",
      "source": [
        "Tune the regularization strength of a Ridge regressor (with the polynomial mapping).\n",
        "Remember to attach required plots, optimal strengths, optimal validation errors."
      ],
      "metadata": {
        "id": "02GGXg9lqcEt"
      }
    },
    {
      "cell_type": "code",
      "source": [
        "val_scores = dict()\n",
        "train_scores = dict()\n",
        "\n",
        "for a in np.logspace(-3, 22, 30, base=2.0):\n",
        "  res = cross_validate(Ridge(alpha=a, fit_intercept=True), X=poly_train, y = np.array(train.VirusScore), cv = 5, scoring='neg_mean_squared_error', n_jobs = -1, return_train_score = True)\n",
        "  val_scores[a] = -res['test_score'].mean()\n",
        "  train_scores[a] = -res['train_score'].mean()\n",
        "  \n",
        "to_plot = pd.DataFrame(data={'alpha': train_scores.keys(), \n",
        "                             'Validation Error': [val for _, val in val_scores.items()], \n",
        "                             'Training Error': [val for _, val in train_scores.items()],\n",
        "                             'Dummy Validation Error': [dummy_val_error for _ in train_scores.keys()]\n",
        "                             })\n",
        "to_plot"
      ],
      "metadata": {
        "id": "ij0h6MnGrs-l",
        "colab": {
          "base_uri": "https://localhost:8080/",
          "height": 990
        },
        "outputId": "52f68676-f983-4b5d-f3b6-ef25045b11fd"
      },
      "execution_count": 41,
      "outputs": [
        {
          "output_type": "execute_result",
          "data": {
            "text/html": [
              "\n",
              "  <div id=\"df-ef7ac06f-90ed-48b7-8358-8a2701600ab3\">\n",
              "    <div class=\"colab-df-container\">\n",
              "      <div>\n",
              "<style scoped>\n",
              "    .dataframe tbody tr th:only-of-type {\n",
              "        vertical-align: middle;\n",
              "    }\n",
              "\n",
              "    .dataframe tbody tr th {\n",
              "        vertical-align: top;\n",
              "    }\n",
              "\n",
              "    .dataframe thead th {\n",
              "        text-align: right;\n",
              "    }\n",
              "</style>\n",
              "<table border=\"1\" class=\"dataframe\">\n",
              "  <thead>\n",
              "    <tr style=\"text-align: right;\">\n",
              "      <th></th>\n",
              "      <th>alpha</th>\n",
              "      <th>Validation Error</th>\n",
              "      <th>Training Error</th>\n",
              "      <th>Dummy Validation Error</th>\n",
              "    </tr>\n",
              "  </thead>\n",
              "  <tbody>\n",
              "    <tr>\n",
              "      <th>0</th>\n",
              "      <td>1.250000e-01</td>\n",
              "      <td>0.008066</td>\n",
              "      <td>0.006883</td>\n",
              "      <td>0.019716</td>\n",
              "    </tr>\n",
              "    <tr>\n",
              "      <th>1</th>\n",
              "      <td>2.272054e-01</td>\n",
              "      <td>0.008061</td>\n",
              "      <td>0.006883</td>\n",
              "      <td>0.019716</td>\n",
              "    </tr>\n",
              "    <tr>\n",
              "      <th>2</th>\n",
              "      <td>4.129783e-01</td>\n",
              "      <td>0.008052</td>\n",
              "      <td>0.006883</td>\n",
              "      <td>0.019716</td>\n",
              "    </tr>\n",
              "    <tr>\n",
              "      <th>3</th>\n",
              "      <td>7.506472e-01</td>\n",
              "      <td>0.008039</td>\n",
              "      <td>0.006885</td>\n",
              "      <td>0.019716</td>\n",
              "    </tr>\n",
              "    <tr>\n",
              "      <th>4</th>\n",
              "      <td>1.364409e+00</td>\n",
              "      <td>0.008020</td>\n",
              "      <td>0.006889</td>\n",
              "      <td>0.019716</td>\n",
              "    </tr>\n",
              "    <tr>\n",
              "      <th>5</th>\n",
              "      <td>2.480008e+00</td>\n",
              "      <td>0.007996</td>\n",
              "      <td>0.006900</td>\n",
              "      <td>0.019716</td>\n",
              "    </tr>\n",
              "    <tr>\n",
              "      <th>6</th>\n",
              "      <td>4.507770e+00</td>\n",
              "      <td>0.007976</td>\n",
              "      <td>0.006925</td>\n",
              "      <td>0.019716</td>\n",
              "    </tr>\n",
              "    <tr>\n",
              "      <th>7</th>\n",
              "      <td>8.193516e+00</td>\n",
              "      <td>0.007973</td>\n",
              "      <td>0.006977</td>\n",
              "      <td>0.019716</td>\n",
              "    </tr>\n",
              "    <tr>\n",
              "      <th>8</th>\n",
              "      <td>1.489289e+01</td>\n",
              "      <td>0.008014</td>\n",
              "      <td>0.007078</td>\n",
              "      <td>0.019716</td>\n",
              "    </tr>\n",
              "    <tr>\n",
              "      <th>9</th>\n",
              "      <td>2.706996e+01</td>\n",
              "      <td>0.008137</td>\n",
              "      <td>0.007263</td>\n",
              "      <td>0.019716</td>\n",
              "    </tr>\n",
              "    <tr>\n",
              "      <th>10</th>\n",
              "      <td>4.920352e+01</td>\n",
              "      <td>0.008387</td>\n",
              "      <td>0.007570</td>\n",
              "      <td>0.019716</td>\n",
              "    </tr>\n",
              "    <tr>\n",
              "      <th>11</th>\n",
              "      <td>8.943444e+01</td>\n",
              "      <td>0.008807</td>\n",
              "      <td>0.008044</td>\n",
              "      <td>0.019716</td>\n",
              "    </tr>\n",
              "    <tr>\n",
              "      <th>12</th>\n",
              "      <td>1.625599e+02</td>\n",
              "      <td>0.009469</td>\n",
              "      <td>0.008754</td>\n",
              "      <td>0.019716</td>\n",
              "    </tr>\n",
              "    <tr>\n",
              "      <th>13</th>\n",
              "      <td>2.954759e+02</td>\n",
              "      <td>0.010480</td>\n",
              "      <td>0.009805</td>\n",
              "      <td>0.019716</td>\n",
              "    </tr>\n",
              "    <tr>\n",
              "      <th>14</th>\n",
              "      <td>5.370697e+02</td>\n",
              "      <td>0.011893</td>\n",
              "      <td>0.011256</td>\n",
              "      <td>0.019716</td>\n",
              "    </tr>\n",
              "    <tr>\n",
              "      <th>15</th>\n",
              "      <td>9.762010e+02</td>\n",
              "      <td>0.013595</td>\n",
              "      <td>0.013005</td>\n",
              "      <td>0.019716</td>\n",
              "    </tr>\n",
              "    <tr>\n",
              "      <th>16</th>\n",
              "      <td>1.774385e+03</td>\n",
              "      <td>0.015319</td>\n",
              "      <td>0.014794</td>\n",
              "      <td>0.019716</td>\n",
              "    </tr>\n",
              "    <tr>\n",
              "      <th>17</th>\n",
              "      <td>3.225199e+03</td>\n",
              "      <td>0.016800</td>\n",
              "      <td>0.016356</td>\n",
              "      <td>0.019716</td>\n",
              "    </tr>\n",
              "    <tr>\n",
              "      <th>18</th>\n",
              "      <td>5.862261e+03</td>\n",
              "      <td>0.017907</td>\n",
              "      <td>0.017549</td>\n",
              "      <td>0.019716</td>\n",
              "    </tr>\n",
              "    <tr>\n",
              "      <th>19</th>\n",
              "      <td>1.065550e+04</td>\n",
              "      <td>0.018648</td>\n",
              "      <td>0.018369</td>\n",
              "      <td>0.019716</td>\n",
              "    </tr>\n",
              "    <tr>\n",
              "      <th>20</th>\n",
              "      <td>1.936789e+04</td>\n",
              "      <td>0.019106</td>\n",
              "      <td>0.018893</td>\n",
              "      <td>0.019716</td>\n",
              "    </tr>\n",
              "    <tr>\n",
              "      <th>21</th>\n",
              "      <td>3.520392e+04</td>\n",
              "      <td>0.019375</td>\n",
              "      <td>0.019214</td>\n",
              "      <td>0.019716</td>\n",
              "    </tr>\n",
              "    <tr>\n",
              "      <th>22</th>\n",
              "      <td>6.398815e+04</td>\n",
              "      <td>0.019528</td>\n",
              "      <td>0.019404</td>\n",
              "      <td>0.019716</td>\n",
              "    </tr>\n",
              "    <tr>\n",
              "      <th>23</th>\n",
              "      <td>1.163076e+05</td>\n",
              "      <td>0.019613</td>\n",
              "      <td>0.019516</td>\n",
              "      <td>0.019716</td>\n",
              "    </tr>\n",
              "    <tr>\n",
              "      <th>24</th>\n",
              "      <td>2.114058e+05</td>\n",
              "      <td>0.019660</td>\n",
              "      <td>0.019580</td>\n",
              "      <td>0.019716</td>\n",
              "    </tr>\n",
              "    <tr>\n",
              "      <th>25</th>\n",
              "      <td>3.842602e+05</td>\n",
              "      <td>0.019685</td>\n",
              "      <td>0.019616</td>\n",
              "      <td>0.019716</td>\n",
              "    </tr>\n",
              "    <tr>\n",
              "      <th>26</th>\n",
              "      <td>6.984480e+05</td>\n",
              "      <td>0.019699</td>\n",
              "      <td>0.019637</td>\n",
              "      <td>0.019716</td>\n",
              "    </tr>\n",
              "    <tr>\n",
              "      <th>27</th>\n",
              "      <td>1.269529e+06</td>\n",
              "      <td>0.019707</td>\n",
              "      <td>0.019648</td>\n",
              "      <td>0.019716</td>\n",
              "    </tr>\n",
              "    <tr>\n",
              "      <th>28</th>\n",
              "      <td>2.307551e+06</td>\n",
              "      <td>0.019711</td>\n",
              "      <td>0.019655</td>\n",
              "      <td>0.019716</td>\n",
              "    </tr>\n",
              "    <tr>\n",
              "      <th>29</th>\n",
              "      <td>4.194304e+06</td>\n",
              "      <td>0.019713</td>\n",
              "      <td>0.019658</td>\n",
              "      <td>0.019716</td>\n",
              "    </tr>\n",
              "  </tbody>\n",
              "</table>\n",
              "</div>\n",
              "      <button class=\"colab-df-convert\" onclick=\"convertToInteractive('df-ef7ac06f-90ed-48b7-8358-8a2701600ab3')\"\n",
              "              title=\"Convert this dataframe to an interactive table.\"\n",
              "              style=\"display:none;\">\n",
              "        \n",
              "  <svg xmlns=\"http://www.w3.org/2000/svg\" height=\"24px\"viewBox=\"0 0 24 24\"\n",
              "       width=\"24px\">\n",
              "    <path d=\"M0 0h24v24H0V0z\" fill=\"none\"/>\n",
              "    <path d=\"M18.56 5.44l.94 2.06.94-2.06 2.06-.94-2.06-.94-.94-2.06-.94 2.06-2.06.94zm-11 1L8.5 8.5l.94-2.06 2.06-.94-2.06-.94L8.5 2.5l-.94 2.06-2.06.94zm10 10l.94 2.06.94-2.06 2.06-.94-2.06-.94-.94-2.06-.94 2.06-2.06.94z\"/><path d=\"M17.41 7.96l-1.37-1.37c-.4-.4-.92-.59-1.43-.59-.52 0-1.04.2-1.43.59L10.3 9.45l-7.72 7.72c-.78.78-.78 2.05 0 2.83L4 21.41c.39.39.9.59 1.41.59.51 0 1.02-.2 1.41-.59l7.78-7.78 2.81-2.81c.8-.78.8-2.07 0-2.86zM5.41 20L4 18.59l7.72-7.72 1.47 1.35L5.41 20z\"/>\n",
              "  </svg>\n",
              "      </button>\n",
              "      \n",
              "  <style>\n",
              "    .colab-df-container {\n",
              "      display:flex;\n",
              "      flex-wrap:wrap;\n",
              "      gap: 12px;\n",
              "    }\n",
              "\n",
              "    .colab-df-convert {\n",
              "      background-color: #E8F0FE;\n",
              "      border: none;\n",
              "      border-radius: 50%;\n",
              "      cursor: pointer;\n",
              "      display: none;\n",
              "      fill: #1967D2;\n",
              "      height: 32px;\n",
              "      padding: 0 0 0 0;\n",
              "      width: 32px;\n",
              "    }\n",
              "\n",
              "    .colab-df-convert:hover {\n",
              "      background-color: #E2EBFA;\n",
              "      box-shadow: 0px 1px 2px rgba(60, 64, 67, 0.3), 0px 1px 3px 1px rgba(60, 64, 67, 0.15);\n",
              "      fill: #174EA6;\n",
              "    }\n",
              "\n",
              "    [theme=dark] .colab-df-convert {\n",
              "      background-color: #3B4455;\n",
              "      fill: #D2E3FC;\n",
              "    }\n",
              "\n",
              "    [theme=dark] .colab-df-convert:hover {\n",
              "      background-color: #434B5C;\n",
              "      box-shadow: 0px 1px 3px 1px rgba(0, 0, 0, 0.15);\n",
              "      filter: drop-shadow(0px 1px 2px rgba(0, 0, 0, 0.3));\n",
              "      fill: #FFFFFF;\n",
              "    }\n",
              "  </style>\n",
              "\n",
              "      <script>\n",
              "        const buttonEl =\n",
              "          document.querySelector('#df-ef7ac06f-90ed-48b7-8358-8a2701600ab3 button.colab-df-convert');\n",
              "        buttonEl.style.display =\n",
              "          google.colab.kernel.accessAllowed ? 'block' : 'none';\n",
              "\n",
              "        async function convertToInteractive(key) {\n",
              "          const element = document.querySelector('#df-ef7ac06f-90ed-48b7-8358-8a2701600ab3');\n",
              "          const dataTable =\n",
              "            await google.colab.kernel.invokeFunction('convertToInteractive',\n",
              "                                                     [key], {});\n",
              "          if (!dataTable) return;\n",
              "\n",
              "          const docLinkHtml = 'Like what you see? Visit the ' +\n",
              "            '<a target=\"_blank\" href=https://colab.research.google.com/notebooks/data_table.ipynb>data table notebook</a>'\n",
              "            + ' to learn more about interactive tables.';\n",
              "          element.innerHTML = '';\n",
              "          dataTable['output_type'] = 'display_data';\n",
              "          await google.colab.output.renderOutput(dataTable, element);\n",
              "          const docLink = document.createElement('div');\n",
              "          docLink.innerHTML = docLinkHtml;\n",
              "          element.appendChild(docLink);\n",
              "        }\n",
              "      </script>\n",
              "    </div>\n",
              "  </div>\n",
              "  "
            ],
            "text/plain": [
              "           alpha  Validation Error  Training Error  Dummy Validation Error\n",
              "0   1.250000e-01          0.008066        0.006883                0.019716\n",
              "1   2.272054e-01          0.008061        0.006883                0.019716\n",
              "2   4.129783e-01          0.008052        0.006883                0.019716\n",
              "3   7.506472e-01          0.008039        0.006885                0.019716\n",
              "4   1.364409e+00          0.008020        0.006889                0.019716\n",
              "5   2.480008e+00          0.007996        0.006900                0.019716\n",
              "6   4.507770e+00          0.007976        0.006925                0.019716\n",
              "7   8.193516e+00          0.007973        0.006977                0.019716\n",
              "8   1.489289e+01          0.008014        0.007078                0.019716\n",
              "9   2.706996e+01          0.008137        0.007263                0.019716\n",
              "10  4.920352e+01          0.008387        0.007570                0.019716\n",
              "11  8.943444e+01          0.008807        0.008044                0.019716\n",
              "12  1.625599e+02          0.009469        0.008754                0.019716\n",
              "13  2.954759e+02          0.010480        0.009805                0.019716\n",
              "14  5.370697e+02          0.011893        0.011256                0.019716\n",
              "15  9.762010e+02          0.013595        0.013005                0.019716\n",
              "16  1.774385e+03          0.015319        0.014794                0.019716\n",
              "17  3.225199e+03          0.016800        0.016356                0.019716\n",
              "18  5.862261e+03          0.017907        0.017549                0.019716\n",
              "19  1.065550e+04          0.018648        0.018369                0.019716\n",
              "20  1.936789e+04          0.019106        0.018893                0.019716\n",
              "21  3.520392e+04          0.019375        0.019214                0.019716\n",
              "22  6.398815e+04          0.019528        0.019404                0.019716\n",
              "23  1.163076e+05          0.019613        0.019516                0.019716\n",
              "24  2.114058e+05          0.019660        0.019580                0.019716\n",
              "25  3.842602e+05          0.019685        0.019616                0.019716\n",
              "26  6.984480e+05          0.019699        0.019637                0.019716\n",
              "27  1.269529e+06          0.019707        0.019648                0.019716\n",
              "28  2.307551e+06          0.019711        0.019655                0.019716\n",
              "29  4.194304e+06          0.019713        0.019658                0.019716"
            ]
          },
          "metadata": {},
          "execution_count": 41
        }
      ]
    },
    {
      "cell_type": "code",
      "source": [
        "sns.set(rc={'figure.figsize':(11.7,8.27)})\n",
        "sns.set_style('whitegrid')\n",
        "ax1 = sns.lineplot(x=\"alpha\", y=\"Validation Error\", data=to_plot,\n",
        "                 ci=None, label='Validation Error', marker='o')\n",
        "sns.lineplot(x=\"alpha\", y=\"Training Error\", data=to_plot,\n",
        "                 ci=None, label='Training Error', marker='o', ax=ax1)\n",
        "sns.lineplot(x=\"alpha\", y=\"Dummy Validation Error\", data=to_plot,\n",
        "                 ci=None, label='Dummy Validation Error', marker='o', ax=ax1)\n",
        "ax1.set(xlabel='alpha', ylabel='MSE', xscale='log')\n",
        "ax1.legend()\n",
        "_ = plt.title('Polynomial Ridge Validation Plot', fontsize=20, fontweight='bold')"
      ],
      "metadata": {
        "id": "S6YUxta0r6sz",
        "colab": {
          "base_uri": "https://localhost:8080/",
          "height": 545
        },
        "outputId": "80fd5af2-48f5-4aab-affb-8393a944bbf4"
      },
      "execution_count": 42,
      "outputs": [
        {
          "output_type": "display_data",
          "data": {
            "image/png": "[encoded data removed]",
            "text/plain": [
              "<Figure size 842.4x595.44 with 1 Axes>"
            ]
          },
          "metadata": {}
        }
      ]
    },
    {
      "cell_type": "markdown",
      "source": [
        "We will now zoom in a portion of the graph we suspect to have a minimum validation error value at."
      ],
      "metadata": {
        "id": "o3wmjNBnT89K"
      }
    },
    {
      "cell_type": "code",
      "source": [
        "val_scores = dict()\n",
        "train_scores = dict()\n",
        "\n",
        "for a in np.logspace(2.2, 3.2, 50, base=2.0):\n",
        "  res = cross_validate(Ridge(alpha=a, fit_intercept=True), X=poly_train, y = np.array(train.VirusScore), cv = 5, scoring='neg_mean_squared_error', n_jobs = -1, return_train_score = True)\n",
        "  val_scores[a] = -res['test_score'].mean()\n",
        "  train_scores[a] = -res['train_score'].mean()\n",
        "\n",
        "to_plot = pd.DataFrame(data={'alpha': train_scores.keys(), \n",
        "                             'Validation Error': [val for _, val in val_scores.items()], \n",
        "                             'Training Error': [val for _, val in train_scores.items()],\n",
        "                             'Dummy Validation Error': [dummy_val_error for _ in train_scores.keys()]\n",
        "                             })"
      ],
      "metadata": {
        "id": "ELTiB_aST89L"
      },
      "execution_count": 43,
      "outputs": []
    },
    {
      "cell_type": "code",
      "source": [
        "sns.set(rc={'figure.figsize':(11.7,8.27)})\n",
        "sns.set_style('whitegrid')\n",
        "ax1 = sns.lineplot(x=\"alpha\", y=\"Validation Error\", data=to_plot,\n",
        "                 ci=None, label='Validation Error', marker='o')\n",
        "ax1.set(xlabel='alpha', ylabel='MSE', xscale='log')\n",
        "ax1.legend()\n",
        "_ = plt.title('Polynomial Ridge Validation Plot', fontsize=20, fontweight='bold')"
      ],
      "metadata": {
        "id": "hbeQwpZdT89L",
        "colab": {
          "base_uri": "https://localhost:8080/",
          "height": 542
        },
        "outputId": "92f9e043-5532-47a1-e447-14f9be7f5bf0"
      },
      "execution_count": 44,
      "outputs": [
        {
          "output_type": "display_data",
          "data": {
            "image/png": "[encoded data removed]",
            "text/plain": [
              "<Figure size 842.4x595.44 with 1 Axes>"
            ]
          },
          "metadata": {}
        }
      ]
    },
    {
      "cell_type": "code",
      "source": [
        "validation_min = sorted(val_scores.items(), key=lambda x: (x[1], x[0]))[0]\n",
        "print(f'Optimal alpha: {validation_min[0]}\\nOptimal validation MSE: {validation_min[1]}')\n",
        "opt_alpha = validation_min[0]"
      ],
      "metadata": {
        "id": "n268OWDQT89M",
        "colab": {
          "base_uri": "https://localhost:8080/"
        },
        "outputId": "da6a6fd7-7993-48f2-f628-916a1ff9b817"
      },
      "execution_count": 45,
      "outputs": [
        {
          "output_type": "stream",
          "name": "stdout",
          "text": [
            "Optimal alpha: 6.637372509355179\n",
            "Optimal validation MSE: 0.007970477182000366\n"
          ]
        }
      ]
    },
    {
      "cell_type": "markdown",
      "source": [
        "##**<u>Q19:</u>**"
      ],
      "metadata": {
        "id": "TuypePuotvN6"
      }
    },
    {
      "cell_type": "markdown",
      "source": [
        "Fill in the train and validation errors of the regressor yielded by the best performing hyperparameter."
      ],
      "metadata": {
        "id": "Ol89bCRgtytm"
      }
    },
    {
      "cell_type": "code",
      "source": [
        "model_table.loc[3] = ['Ridge Polynomial', 6, train_scores[validation_min[0]], validation_min[1]]\n",
        "model_table.style.set_caption(\"Models Scoring Table\").set_table_styles([{\n",
        "    'selector': 'caption',\n",
        "    'props': [\n",
        "        ('font-size', '20px'),\n",
        "        ('font-weight', 'bold')\n",
        "    ]\n",
        "}])"
      ],
      "metadata": {
        "id": "lmB8rjVgtvbq",
        "colab": {
          "base_uri": "https://localhost:8080/",
          "height": 200
        },
        "outputId": "40cf15ed-260b-4076-88d0-7c54aad83fa6"
      },
      "execution_count": 46,
      "outputs": [
        {
          "output_type": "execute_result",
          "data": {
            "text/html": [
              "<style  type=\"text/css\" >\n",
              "    #T_857c4ba4_73e8_11ec_8b5d_0242ac1c0002 caption {\n",
              "          font-size: 20px;\n",
              "          font-weight: bold;\n",
              "    }</style><table id=\"T_857c4ba4_73e8_11ec_8b5d_0242ac1c0002\" class=\"dataframe\"><caption>Models Scoring Table</caption><thead>    <tr>        <th class=\"blank level0\" ></th>        <th class=\"col_heading level0 col0\" >Model</th>        <th class=\"col_heading level0 col1\" >Section</th>        <th class=\"col_heading level0 col2\" >Train MSE</th>        <th class=\"col_heading level0 col3\" >Valid MSE</th>    </tr></thead><tbody>\n",
              "                <tr>\n",
              "                        <th id=\"T_857c4ba4_73e8_11ec_8b5d_0242ac1c0002level0_row0\" class=\"row_heading level0 row0\" >0</th>\n",
              "                        <td id=\"T_857c4ba4_73e8_11ec_8b5d_0242ac1c0002row0_col0\" class=\"data row0 col0\" >Dummy</td>\n",
              "                        <td id=\"T_857c4ba4_73e8_11ec_8b5d_0242ac1c0002row0_col1\" class=\"data row0 col1\" >3</td>\n",
              "                        <td id=\"T_857c4ba4_73e8_11ec_8b5d_0242ac1c0002row0_col2\" class=\"data row0 col2\" >0.019663</td>\n",
              "                        <td id=\"T_857c4ba4_73e8_11ec_8b5d_0242ac1c0002row0_col3\" class=\"data row0 col3\" >0.019716</td>\n",
              "            </tr>\n",
              "            <tr>\n",
              "                        <th id=\"T_857c4ba4_73e8_11ec_8b5d_0242ac1c0002level0_row1\" class=\"row_heading level0 row1\" >1</th>\n",
              "                        <td id=\"T_857c4ba4_73e8_11ec_8b5d_0242ac1c0002row1_col0\" class=\"data row1 col0\" >Ridge Linear</td>\n",
              "                        <td id=\"T_857c4ba4_73e8_11ec_8b5d_0242ac1c0002row1_col1\" class=\"data row1 col1\" >4</td>\n",
              "                        <td id=\"T_857c4ba4_73e8_11ec_8b5d_0242ac1c0002row1_col2\" class=\"data row1 col2\" >0.008529</td>\n",
              "                        <td id=\"T_857c4ba4_73e8_11ec_8b5d_0242ac1c0002row1_col3\" class=\"data row1 col3\" >0.008766</td>\n",
              "            </tr>\n",
              "            <tr>\n",
              "                        <th id=\"T_857c4ba4_73e8_11ec_8b5d_0242ac1c0002level0_row2\" class=\"row_heading level0 row2\" >2</th>\n",
              "                        <td id=\"T_857c4ba4_73e8_11ec_8b5d_0242ac1c0002row2_col0\" class=\"data row2 col0\" >Lasso Linear</td>\n",
              "                        <td id=\"T_857c4ba4_73e8_11ec_8b5d_0242ac1c0002row2_col1\" class=\"data row2 col1\" >5</td>\n",
              "                        <td id=\"T_857c4ba4_73e8_11ec_8b5d_0242ac1c0002row2_col2\" class=\"data row2 col2\" >0.008530</td>\n",
              "                        <td id=\"T_857c4ba4_73e8_11ec_8b5d_0242ac1c0002row2_col3\" class=\"data row2 col3\" >0.008766</td>\n",
              "            </tr>\n",
              "            <tr>\n",
              "                        <th id=\"T_857c4ba4_73e8_11ec_8b5d_0242ac1c0002level0_row3\" class=\"row_heading level0 row3\" >3</th>\n",
              "                        <td id=\"T_857c4ba4_73e8_11ec_8b5d_0242ac1c0002row3_col0\" class=\"data row3 col0\" >Ridge Polynomial</td>\n",
              "                        <td id=\"T_857c4ba4_73e8_11ec_8b5d_0242ac1c0002row3_col1\" class=\"data row3 col1\" >6</td>\n",
              "                        <td id=\"T_857c4ba4_73e8_11ec_8b5d_0242ac1c0002row3_col2\" class=\"data row3 col2\" >0.006954</td>\n",
              "                        <td id=\"T_857c4ba4_73e8_11ec_8b5d_0242ac1c0002row3_col3\" class=\"data row3 col3\" >0.007970</td>\n",
              "            </tr>\n",
              "    </tbody></table>"
            ],
            "text/plain": [
              "<pandas.io.formats.style.Styler at 0x7f3b4ac5d890>"
            ]
          },
          "metadata": {},
          "execution_count": 46
        }
      ]
    },
    {
      "cell_type": "markdown",
      "source": [
        "<u>**Task:**</u> Train the polynomial regressor on the entire training set and save it for future use (Sec 7)."
      ],
      "metadata": {
        "id": "QhUzSg86uhVd"
      }
    },
    {
      "cell_type": "code",
      "source": [
        "curr_section = 6\n",
        "poly_ridge_clf = Ridge(alpha=opt_alpha, fit_intercept=True)\n",
        "_ = poly_ridge_clf.fit(X=poly_train, y = np.array(train.VirusScore))\n",
        "\n",
        "section_to_clf[curr_section] = poly_ridge_clf"
      ],
      "metadata": {
        "id": "mXacYpYGukcj"
      },
      "execution_count": 47,
      "outputs": []
    },
    {
      "cell_type": "markdown",
      "source": [
        "#<u>**Section 7: Testing your models**</u>"
      ],
      "metadata": {
        "id": "DtkeMpUoxPcD"
      }
    },
    {
      "cell_type": "markdown",
      "source": [
        "Finally, we can let the test set come out and play.</br>\n",
        "At the end of the previous sections, you retrained the tuned models on the entire training set. You will now evaluate the test errors (MSE) for those 3 models, as well as the Dummy baseline."
      ],
      "metadata": {
        "id": "3qA5hTfVxUJ9"
      }
    },
    {
      "cell_type": "markdown",
      "source": [
        "##**<u>Q20:</u>**"
      ],
      "metadata": {
        "id": "Rqn7lBFLxieY"
      }
    },
    {
      "cell_type": "markdown",
      "source": [
        "Complete the entire table.</br>\n",
        "Which model performed best on the test set?</br>\n",
        "Discuss the results in the table (from an overfitting and underfitting perspective, or any other insightful perspective)."
      ],
      "metadata": {
        "id": "Hei1UdFvyFJh"
      }
    },
    {
      "cell_type": "code",
      "source": [
        "test_res = list()\n",
        "\n",
        "for i in range(model_table.shape[0]):\n",
        "  section = model_table.loc[i, 'Section']\n",
        "  y_hat = section_to_clf[section].predict(X=(np.array(test.drop(labels='VirusScore', axis=1)) if i < model_table.shape[0] - 1 else poly_test))\n",
        "  mse = ((y_hat - test.VirusScore)**2).mean()\n",
        "  test_res.append(mse)\n",
        "\n",
        "if 'Test MSE' in model_table:\n",
        "  del model_table['Test MSE']\n",
        "model_table.insert(4, column='Test MSE', value=test_res)\n",
        "model_table.style.set_caption(\"Models Scoring Table\").set_table_styles([{\n",
        "    'selector': 'caption',\n",
        "    'props': [\n",
        "        ('font-size', '20px'),\n",
        "        ('font-weight', 'bold')\n",
        "    ]\n",
        "}])"
      ],
      "metadata": {
        "id": "3Uqve9oEy22e",
        "colab": {
          "base_uri": "https://localhost:8080/",
          "height": 200
        },
        "outputId": "93bd3745-9eb7-4337-f80b-bb368231d46d"
      },
      "execution_count": 48,
      "outputs": [
        {
          "output_type": "execute_result",
          "data": {
            "text/html": [
              "<style  type=\"text/css\" >\n",
              "    #T_858be0b4_73e8_11ec_8b5d_0242ac1c0002 caption {\n",
              "          font-size: 20px;\n",
              "          font-weight: bold;\n",
              "    }</style><table id=\"T_858be0b4_73e8_11ec_8b5d_0242ac1c0002\" class=\"dataframe\"><caption>Models Scoring Table</caption><thead>    <tr>        <th class=\"blank level0\" ></th>        <th class=\"col_heading level0 col0\" >Model</th>        <th class=\"col_heading level0 col1\" >Section</th>        <th class=\"col_heading level0 col2\" >Train MSE</th>        <th class=\"col_heading level0 col3\" >Valid MSE</th>        <th class=\"col_heading level0 col4\" >Test MSE</th>    </tr></thead><tbody>\n",
              "                <tr>\n",
              "                        <th id=\"T_858be0b4_73e8_11ec_8b5d_0242ac1c0002level0_row0\" class=\"row_heading level0 row0\" >0</th>\n",
              "                        <td id=\"T_858be0b4_73e8_11ec_8b5d_0242ac1c0002row0_col0\" class=\"data row0 col0\" >Dummy</td>\n",
              "                        <td id=\"T_858be0b4_73e8_11ec_8b5d_0242ac1c0002row0_col1\" class=\"data row0 col1\" >3</td>\n",
              "                        <td id=\"T_858be0b4_73e8_11ec_8b5d_0242ac1c0002row0_col2\" class=\"data row0 col2\" >0.019663</td>\n",
              "                        <td id=\"T_858be0b4_73e8_11ec_8b5d_0242ac1c0002row0_col3\" class=\"data row0 col3\" >0.019716</td>\n",
              "                        <td id=\"T_858be0b4_73e8_11ec_8b5d_0242ac1c0002row0_col4\" class=\"data row0 col4\" >0.022810</td>\n",
              "            </tr>\n",
              "            <tr>\n",
              "                        <th id=\"T_858be0b4_73e8_11ec_8b5d_0242ac1c0002level0_row1\" class=\"row_heading level0 row1\" >1</th>\n",
              "                        <td id=\"T_858be0b4_73e8_11ec_8b5d_0242ac1c0002row1_col0\" class=\"data row1 col0\" >Ridge Linear</td>\n",
              "                        <td id=\"T_858be0b4_73e8_11ec_8b5d_0242ac1c0002row1_col1\" class=\"data row1 col1\" >4</td>\n",
              "                        <td id=\"T_858be0b4_73e8_11ec_8b5d_0242ac1c0002row1_col2\" class=\"data row1 col2\" >0.008529</td>\n",
              "                        <td id=\"T_858be0b4_73e8_11ec_8b5d_0242ac1c0002row1_col3\" class=\"data row1 col3\" >0.008766</td>\n",
              "                        <td id=\"T_858be0b4_73e8_11ec_8b5d_0242ac1c0002row1_col4\" class=\"data row1 col4\" >0.009263</td>\n",
              "            </tr>\n",
              "            <tr>\n",
              "                        <th id=\"T_858be0b4_73e8_11ec_8b5d_0242ac1c0002level0_row2\" class=\"row_heading level0 row2\" >2</th>\n",
              "                        <td id=\"T_858be0b4_73e8_11ec_8b5d_0242ac1c0002row2_col0\" class=\"data row2 col0\" >Lasso Linear</td>\n",
              "                        <td id=\"T_858be0b4_73e8_11ec_8b5d_0242ac1c0002row2_col1\" class=\"data row2 col1\" >5</td>\n",
              "                        <td id=\"T_858be0b4_73e8_11ec_8b5d_0242ac1c0002row2_col2\" class=\"data row2 col2\" >0.008530</td>\n",
              "                        <td id=\"T_858be0b4_73e8_11ec_8b5d_0242ac1c0002row2_col3\" class=\"data row2 col3\" >0.008766</td>\n",
              "                        <td id=\"T_858be0b4_73e8_11ec_8b5d_0242ac1c0002row2_col4\" class=\"data row2 col4\" >0.009251</td>\n",
              "            </tr>\n",
              "            <tr>\n",
              "                        <th id=\"T_858be0b4_73e8_11ec_8b5d_0242ac1c0002level0_row3\" class=\"row_heading level0 row3\" >3</th>\n",
              "                        <td id=\"T_858be0b4_73e8_11ec_8b5d_0242ac1c0002row3_col0\" class=\"data row3 col0\" >Ridge Polynomial</td>\n",
              "                        <td id=\"T_858be0b4_73e8_11ec_8b5d_0242ac1c0002row3_col1\" class=\"data row3 col1\" >6</td>\n",
              "                        <td id=\"T_858be0b4_73e8_11ec_8b5d_0242ac1c0002row3_col2\" class=\"data row3 col2\" >0.006954</td>\n",
              "                        <td id=\"T_858be0b4_73e8_11ec_8b5d_0242ac1c0002row3_col3\" class=\"data row3 col3\" >0.007970</td>\n",
              "                        <td id=\"T_858be0b4_73e8_11ec_8b5d_0242ac1c0002row3_col4\" class=\"data row3 col4\" >0.008792</td>\n",
              "            </tr>\n",
              "    </tbody></table>"
            ],
            "text/plain": [
              "<pandas.io.formats.style.Styler at 0x7f3b4ad09f50>"
            ]
          },
          "metadata": {},
          "execution_count": 48
        }
      ]
    },
    {
      "cell_type": "markdown",
      "source": [
        "#<u>**Section 9: Submitted model predictions**</u>"
      ],
      "metadata": {
        "id": "gV06RGn0l_h1"
      }
    },
    {
      "cell_type": "markdown",
      "source": [
        "For each model you implemented, you should submit a single CSV file containing your predictions on the unlabeled dataset `virus_unlabeled.csv`.</br>\n",
        "Notice that this unseen dataset requires the same <u>preparation</u> as the rest of your data.</br></br>\n",
        "Before performing any predictions, train each of your models on the <u>**entire labeled dataset at your disposal**</u>, including the labeled test set.</br></br>\n",
        "For each relevant section, submit a file named **`pred_<sect_num>.csv`**.</br>\n",
        "Each file should consist of an “patient_id” column and a “VirusScore” column.</br>\n",
        "Every row should have the original ID of the predicted input and the prediction of the best regressor you found in the appropriate section.</br></br>\n",
        "\n",
        "Example for a prediction file (actual file should have 1001 rows including the headers):"
      ],
      "metadata": {
        "id": "u7gt0HpBmEmq"
      }
    },
    {
      "cell_type": "markdown",
      "source": [
        "![image.png](data:image/png;base64,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)"
      ],
      "metadata": {
        "id": "z2hcq_3amnfd"
      }
    },
    {
      "cell_type": "markdown",
      "source": [
        "First we will retrain the models on the entire dataset."
      ],
      "metadata": {
        "id": "YSgPqPBguHoN"
      }
    },
    {
      "cell_type": "code",
      "source": [
        "train = prepare_data(dataset, dataset)"
      ],
      "metadata": {
        "id": "vi5IT5NNuPmS"
      },
      "execution_count": 49,
      "outputs": []
    },
    {
      "cell_type": "code",
      "source": [
        "for section, clf in section_to_clf.items():\n",
        "  if section == 6: # Polynomial Ridge Regression:\n",
        "    poly_train = poly.fit_transform(X=train.drop(labels='VirusScore', axis=1))\n",
        "    clf.fit(X=poly_train, y=np.array(train.VirusScore))\n",
        "  else:\n",
        "    clf.fit(X=np.array(train.drop(labels='VirusScore', axis=1)), y=np.array(train.VirusScore))"
      ],
      "metadata": {
        "id": "7EEuWCoDuh-f"
      },
      "execution_count": 50,
      "outputs": []
    },
    {
      "cell_type": "markdown",
      "source": [
        "Create a function to automate the dataframe creation process."
      ],
      "metadata": {
        "id": "4eE5AyxauQfT"
      }
    },
    {
      "cell_type": "code",
      "source": [
        "def classifiers_to_dfs(clf_dict: Dict[int, BaseEstimator], test_data: pd.DataFrame) -> Dict[int, pd.DataFrame]:\n",
        "  res = dict()\n",
        "  test_copy = test_data.copy()\n",
        "  test_X = np.array(test_copy) if 'patient_id' not in test_copy.columns else np.array(test_copy.drop(labels='patient_id', axis=1))\n",
        "  for key, clf in clf_dict.items():\n",
        "    test_copy.loc[:,'VirusScore'] = clf.predict(X=(test_X if key != 6 else poly.fit_transform(X=test_X)))\n",
        "    res[key] = pd.DataFrame(data=test_copy[['patient_id', 'VirusScore']])\n",
        "  return res"
      ],
      "metadata": {
        "id": "j4iM_c1Emtx5"
      },
      "execution_count": 51,
      "outputs": []
    },
    {
      "cell_type": "markdown",
      "source": [
        "We will now reload the test data into a dataframe that will also contain the `patient_id` feature."
      ],
      "metadata": {
        "id": "F99k4G1fsXoS"
      }
    },
    {
      "cell_type": "code",
      "source": [
        "filename = '/content/gdrive/MyDrive/Technion/Machine Learning/Major HW 3/virus_unlabeled.csv'\n",
        "unlabeled_dataset = pd.read_csv(filename)\n",
        "test_with_id = prepare_data(unlabeled_dataset, dataset, drop_id=False)\n",
        "\n",
        "test_with_id.head()"
      ],
      "metadata": {
        "id": "47i7srTtsghe",
        "colab": {
          "base_uri": "https://localhost:8080/",
          "height": 206
        },
        "outputId": "36825c95-f3c6-475c-d6b5-bca1227c3d9d"
      },
      "execution_count": 52,
      "outputs": [
        {
          "output_type": "execute_result",
          "data": {
            "text/html": [
              "\n",
              "  <div id=\"df-01998aa7-beae-4a44-a7cf-5aacc0062618\">\n",
              "    <div class=\"colab-df-container\">\n",
              "      <div>\n",
              "<style scoped>\n",
              "    .dataframe tbody tr th:only-of-type {\n",
              "        vertical-align: middle;\n",
              "    }\n",
              "\n",
              "    .dataframe tbody tr th {\n",
              "        vertical-align: top;\n",
              "    }\n",
              "\n",
              "    .dataframe thead th {\n",
              "        text-align: right;\n",
              "    }\n",
              "</style>\n",
              "<table border=\"1\" class=\"dataframe\">\n",
              "  <thead>\n",
              "    <tr style=\"text-align: right;\">\n",
              "      <th></th>\n",
              "      <th>patient_id</th>\n",
              "      <th>zip_code</th>\n",
              "      <th>contains_blood_A</th>\n",
              "      <th>household_income</th>\n",
              "      <th>num_of_siblings</th>\n",
              "      <th>shortness_of_breath</th>\n",
              "      <th>fever</th>\n",
              "      <th>sugar_levels</th>\n",
              "      <th>PCR_01</th>\n",
              "      <th>PCR_02</th>\n",
              "      <th>PCR_03</th>\n",
              "      <th>PCR_05</th>\n",
              "      <th>PCR_06</th>\n",
              "      <th>PCR_07</th>\n",
              "      <th>PCR_10</th>\n",
              "    </tr>\n",
              "  </thead>\n",
              "  <tbody>\n",
              "    <tr>\n",
              "      <th>0</th>\n",
              "      <td>8486</td>\n",
              "      <td>0.335575</td>\n",
              "      <td>0</td>\n",
              "      <td>0.492223</td>\n",
              "      <td>0.333333</td>\n",
              "      <td>0.0</td>\n",
              "      <td>0.0</td>\n",
              "      <td>-0.518649</td>\n",
              "      <td>1.148224</td>\n",
              "      <td>-0.956074</td>\n",
              "      <td>-0.105080</td>\n",
              "      <td>1.649458</td>\n",
              "      <td>1.389241</td>\n",
              "      <td>-0.952378</td>\n",
              "      <td>0.701564</td>\n",
              "    </tr>\n",
              "    <tr>\n",
              "      <th>1</th>\n",
              "      <td>4238</td>\n",
              "      <td>0.470668</td>\n",
              "      <td>0</td>\n",
              "      <td>0.610709</td>\n",
              "      <td>0.166667</td>\n",
              "      <td>0.0</td>\n",
              "      <td>0.0</td>\n",
              "      <td>0.247430</td>\n",
              "      <td>-0.717399</td>\n",
              "      <td>-0.401407</td>\n",
              "      <td>-0.632707</td>\n",
              "      <td>-1.693285</td>\n",
              "      <td>-1.590009</td>\n",
              "      <td>0.668248</td>\n",
              "      <td>0.701564</td>\n",
              "    </tr>\n",
              "    <tr>\n",
              "      <th>2</th>\n",
              "      <td>9919</td>\n",
              "      <td>0.647556</td>\n",
              "      <td>1</td>\n",
              "      <td>0.446063</td>\n",
              "      <td>0.500000</td>\n",
              "      <td>0.0</td>\n",
              "      <td>0.0</td>\n",
              "      <td>-0.737528</td>\n",
              "      <td>-0.524236</td>\n",
              "      <td>1.145071</td>\n",
              "      <td>0.831747</td>\n",
              "      <td>1.649458</td>\n",
              "      <td>1.374541</td>\n",
              "      <td>0.401377</td>\n",
              "      <td>0.701564</td>\n",
              "    </tr>\n",
              "    <tr>\n",
              "      <th>3</th>\n",
              "      <td>6142</td>\n",
              "      <td>0.988838</td>\n",
              "      <td>0</td>\n",
              "      <td>0.187155</td>\n",
              "      <td>0.333333</td>\n",
              "      <td>0.0</td>\n",
              "      <td>0.0</td>\n",
              "      <td>1.943747</td>\n",
              "      <td>0.748622</td>\n",
              "      <td>-0.386932</td>\n",
              "      <td>-0.077672</td>\n",
              "      <td>-0.021914</td>\n",
              "      <td>0.173281</td>\n",
              "      <td>-0.602967</td>\n",
              "      <td>-0.054703</td>\n",
              "    </tr>\n",
              "    <tr>\n",
              "      <th>4</th>\n",
              "      <td>671</td>\n",
              "      <td>0.942466</td>\n",
              "      <td>0</td>\n",
              "      <td>0.142480</td>\n",
              "      <td>0.166667</td>\n",
              "      <td>1.0</td>\n",
              "      <td>0.0</td>\n",
              "      <td>-0.573368</td>\n",
              "      <td>0.452987</td>\n",
              "      <td>-0.586422</td>\n",
              "      <td>-0.191965</td>\n",
              "      <td>1.092334</td>\n",
              "      <td>0.960401</td>\n",
              "      <td>-0.378163</td>\n",
              "      <td>-1.567238</td>\n",
              "    </tr>\n",
              "  </tbody>\n",
              "</table>\n",
              "</div>\n",
              "      <button class=\"colab-df-convert\" onclick=\"convertToInteractive('df-01998aa7-beae-4a44-a7cf-5aacc0062618')\"\n",
              "              title=\"Convert this dataframe to an interactive table.\"\n",
              "              style=\"display:none;\">\n",
              "        \n",
              "  <svg xmlns=\"http://www.w3.org/2000/svg\" height=\"24px\"viewBox=\"0 0 24 24\"\n",
              "       width=\"24px\">\n",
              "    <path d=\"M0 0h24v24H0V0z\" fill=\"none\"/>\n",
              "    <path d=\"M18.56 5.44l.94 2.06.94-2.06 2.06-.94-2.06-.94-.94-2.06-.94 2.06-2.06.94zm-11 1L8.5 8.5l.94-2.06 2.06-.94-2.06-.94L8.5 2.5l-.94 2.06-2.06.94zm10 10l.94 2.06.94-2.06 2.06-.94-2.06-.94-.94-2.06-.94 2.06-2.06.94z\"/><path d=\"M17.41 7.96l-1.37-1.37c-.4-.4-.92-.59-1.43-.59-.52 0-1.04.2-1.43.59L10.3 9.45l-7.72 7.72c-.78.78-.78 2.05 0 2.83L4 21.41c.39.39.9.59 1.41.59.51 0 1.02-.2 1.41-.59l7.78-7.78 2.81-2.81c.8-.78.8-2.07 0-2.86zM5.41 20L4 18.59l7.72-7.72 1.47 1.35L5.41 20z\"/>\n",
              "  </svg>\n",
              "      </button>\n",
              "      \n",
              "  <style>\n",
              "    .colab-df-container {\n",
              "      display:flex;\n",
              "      flex-wrap:wrap;\n",
              "      gap: 12px;\n",
              "    }\n",
              "\n",
              "    .colab-df-convert {\n",
              "      background-color: #E8F0FE;\n",
              "      border: none;\n",
              "      border-radius: 50%;\n",
              "      cursor: pointer;\n",
              "      display: none;\n",
              "      fill: #1967D2;\n",
              "      height: 32px;\n",
              "      padding: 0 0 0 0;\n",
              "      width: 32px;\n",
              "    }\n",
              "\n",
              "    .colab-df-convert:hover {\n",
              "      background-color: #E2EBFA;\n",
              "      box-shadow: 0px 1px 2px rgba(60, 64, 67, 0.3), 0px 1px 3px 1px rgba(60, 64, 67, 0.15);\n",
              "      fill: #174EA6;\n",
              "    }\n",
              "\n",
              "    [theme=dark] .colab-df-convert {\n",
              "      background-color: #3B4455;\n",
              "      fill: #D2E3FC;\n",
              "    }\n",
              "\n",
              "    [theme=dark] .colab-df-convert:hover {\n",
              "      background-color: #434B5C;\n",
              "      box-shadow: 0px 1px 3px 1px rgba(0, 0, 0, 0.15);\n",
              "      filter: drop-shadow(0px 1px 2px rgba(0, 0, 0, 0.3));\n",
              "      fill: #FFFFFF;\n",
              "    }\n",
              "  </style>\n",
              "\n",
              "      <script>\n",
              "        const buttonEl =\n",
              "          document.querySelector('#df-01998aa7-beae-4a44-a7cf-5aacc0062618 button.colab-df-convert');\n",
              "        buttonEl.style.display =\n",
              "          google.colab.kernel.accessAllowed ? 'block' : 'none';\n",
              "\n",
              "        async function convertToInteractive(key) {\n",
              "          const element = document.querySelector('#df-01998aa7-beae-4a44-a7cf-5aacc0062618');\n",
              "          const dataTable =\n",
              "            await google.colab.kernel.invokeFunction('convertToInteractive',\n",
              "                                                     [key], {});\n",
              "          if (!dataTable) return;\n",
              "\n",
              "          const docLinkHtml = 'Like what you see? Visit the ' +\n",
              "            '<a target=\"_blank\" href=https://colab.research.google.com/notebooks/data_table.ipynb>data table notebook</a>'\n",
              "            + ' to learn more about interactive tables.';\n",
              "          element.innerHTML = '';\n",
              "          dataTable['output_type'] = 'display_data';\n",
              "          await google.colab.output.renderOutput(dataTable, element);\n",
              "          const docLink = document.createElement('div');\n",
              "          docLink.innerHTML = docLinkHtml;\n",
              "          element.appendChild(docLink);\n",
              "        }\n",
              "      </script>\n",
              "    </div>\n",
              "  </div>\n",
              "  "
            ],
            "text/plain": [
              "   patient_id  zip_code  contains_blood_A  ...    PCR_06    PCR_07    PCR_10\n",
              "0        8486  0.335575                 0  ...  1.389241 -0.952378  0.701564\n",
              "1        4238  0.470668                 0  ... -1.590009  0.668248  0.701564\n",
              "2        9919  0.647556                 1  ...  1.374541  0.401377  0.701564\n",
              "3        6142  0.988838                 0  ...  0.173281 -0.602967 -0.054703\n",
              "4         671  0.942466                 0  ...  0.960401 -0.378163 -1.567238\n",
              "\n",
              "[5 rows x 15 columns]"
            ]
          },
          "metadata": {},
          "execution_count": 52
        }
      ]
    },
    {
      "cell_type": "markdown",
      "source": [
        "Predict the `VirusScore` targets and aggragate them into the corresponding dataframes:"
      ],
      "metadata": {
        "id": "2qxkMNJ5skuH"
      }
    },
    {
      "cell_type": "code",
      "source": [
        "section_to_df = classifiers_to_dfs(section_to_clf, test_with_id)\n",
        "\n",
        "for section, df in section_to_df.items():\n",
        "  print(f'The dataframe for section {section}:\\n{df.head()}\\n\\n')"
      ],
      "metadata": {
        "id": "TWCdIz2_swx9",
        "colab": {
          "base_uri": "https://localhost:8080/"
        },
        "outputId": "85d6e3ba-06b6-443e-a2fb-64eaab50781b"
      },
      "execution_count": 53,
      "outputs": [
        {
          "output_type": "stream",
          "name": "stdout",
          "text": [
            "The dataframe for section 3:\n",
            "   patient_id  VirusScore\n",
            "0        8486    0.292333\n",
            "1        4238    0.292333\n",
            "2        9919    0.292333\n",
            "3        6142    0.292333\n",
            "4         671    0.292333\n",
            "\n",
            "\n",
            "The dataframe for section 4:\n",
            "   patient_id  VirusScore\n",
            "0        8486    0.208276\n",
            "1        4238    0.184773\n",
            "2        9919    0.329779\n",
            "3        6142    0.209388\n",
            "4         671    0.450724\n",
            "\n",
            "\n",
            "The dataframe for section 5:\n",
            "   patient_id  VirusScore\n",
            "0        8486    0.207950\n",
            "1        4238    0.184091\n",
            "2        9919    0.329841\n",
            "3        6142    0.209110\n",
            "4         671    0.451725\n",
            "\n",
            "\n",
            "The dataframe for section 6:\n",
            "   patient_id  VirusScore\n",
            "0        8486    0.206682\n",
            "1        4238    0.184539\n",
            "2        9919    0.338393\n",
            "3        6142    0.190222\n",
            "4         671    0.424626\n",
            "\n",
            "\n"
          ]
        }
      ]
    },
    {
      "cell_type": "markdown",
      "source": [
        "Finally, download the output `.csv` files."
      ],
      "metadata": {
        "id": "8MVKG-1i1_3S"
      }
    },
    {
      "cell_type": "code",
      "source": [
        "from google.colab import files\n",
        "\n",
        "for section, df in section_to_df.items():\n",
        "  if section == 3:\n",
        "    continue\n",
        "  output_path = f'pred_{section}.csv'\n",
        "  df.to_csv(output_path, index=False)\n",
        "  files.download(output_path)"
      ],
      "metadata": {
        "id": "0jL75DZs2FKr",
        "colab": {
          "base_uri": "https://localhost:8080/",
          "height": 17
        },
        "outputId": "d7b660d7-7fc9-43f7-a8cf-808412edf77f"
      },
      "execution_count": 55,
      "outputs": [
        {
          "output_type": "display_data",
          "data": {
            "application/javascript": [
              "\n",
              "    async function download(id, filename, size) {\n",
              "      if (!google.colab.kernel.accessAllowed) {\n",
              "        return;\n",
              "      }\n",
              "      const div = document.createElement('div');\n",
              "      const label = document.createElement('label');\n",
              "      label.textContent = `Downloading \"${filename}\": `;\n",
              "      div.appendChild(label);\n",
              "      const progress = document.createElement('progress');\n",
              "      progress.max = size;\n",
              "      div.appendChild(progress);\n",
              "      document.body.appendChild(div);\n",
              "\n",
              "      const buffers = [];\n",
              "      let downloaded = 0;\n",
              "\n",
              "      const channel = await google.colab.kernel.comms.open(id);\n",
              "      // Send a message to notify the kernel that we're ready.\n",
              "      channel.send({})\n",
              "\n",
              "      for await (const message of channel.messages) {\n",
              "        // Send a message to notify the kernel that we're ready.\n",
              "        channel.send({})\n",
              "        if (message.buffers) {\n",
              "          for (const buffer of message.buffers) {\n",
              "            buffers.push(buffer);\n",
              "            downloaded += buffer.byteLength;\n",
              "            progress.value = downloaded;\n",
              "          }\n",
              "        }\n",
              "      }\n",
              "      const blob = new Blob(buffers, {type: 'application/binary'});\n",
              "      const a = document.createElement('a');\n",
              "      a.href = window.URL.createObjectURL(blob);\n",
              "      a.download = filename;\n",
              "      div.appendChild(a);\n",
              "      a.click();\n",
              "      div.remove();\n",
              "    }\n",
              "  "
            ],
            "text/plain": [
              "<IPython.core.display.Javascript object>"
            ]
          },
          "metadata": {}
        },
        {
          "output_type": "display_data",
          "data": {
            "application/javascript": [
              "download(\"download_051c423a-b4c4-4a40-9345-47c861fc194b\", \"pred_4.csv\", 24776)"
            ],
            "text/plain": [
              "<IPython.core.display.Javascript object>"
            ]
          },
          "metadata": {}
        },
        {
          "output_type": "display_data",
          "data": {
            "application/javascript": [
              "\n",
              "    async function download(id, filename, size) {\n",
              "      if (!google.colab.kernel.accessAllowed) {\n",
              "        return;\n",
              "      }\n",
              "      const div = document.createElement('div');\n",
              "      const label = document.createElement('label');\n",
              "      label.textContent = `Downloading \"${filename}\": `;\n",
              "      div.appendChild(label);\n",
              "      const progress = document.createElement('progress');\n",
              "      progress.max = size;\n",
              "      div.appendChild(progress);\n",
              "      document.body.appendChild(div);\n",
              "\n",
              "      const buffers = [];\n",
              "      let downloaded = 0;\n",
              "\n",
              "      const channel = await google.colab.kernel.comms.open(id);\n",
              "      // Send a message to notify the kernel that we're ready.\n",
              "      channel.send({})\n",
              "\n",
              "      for await (const message of channel.messages) {\n",
              "        // Send a message to notify the kernel that we're ready.\n",
              "        channel.send({})\n",
              "        if (message.buffers) {\n",
              "          for (const buffer of message.buffers) {\n",
              "            buffers.push(buffer);\n",
              "            downloaded += buffer.byteLength;\n",
              "            progress.value = downloaded;\n",
              "          }\n",
              "        }\n",
              "      }\n",
              "      const blob = new Blob(buffers, {type: 'application/binary'});\n",
              "      const a = document.createElement('a');\n",
              "      a.href = window.URL.createObjectURL(blob);\n",
              "      a.download = filename;\n",
              "      div.appendChild(a);\n",
              "      a.click();\n",
              "      div.remove();\n",
              "    }\n",
              "  "
            ],
            "text/plain": [
              "<IPython.core.display.Javascript object>"
            ]
          },
          "metadata": {}
        },
        {
          "output_type": "display_data",
          "data": {
            "application/javascript": [
              "download(\"download_b85923da-5770-40ad-a454-62ea50c0e46a\", \"pred_5.csv\", 24740)"
            ],
            "text/plain": [
              "<IPython.core.display.Javascript object>"
            ]
          },
          "metadata": {}
        },
        {
          "output_type": "display_data",
          "data": {
            "application/javascript": [
              "\n",
              "    async function download(id, filename, size) {\n",
              "      if (!google.colab.kernel.accessAllowed) {\n",
              "        return;\n",
              "      }\n",
              "      const div = document.createElement('div');\n",
              "      const label = document.createElement('label');\n",
              "      label.textContent = `Downloading \"${filename}\": `;\n",
              "      div.appendChild(label);\n",
              "      const progress = document.createElement('progress');\n",
              "      progress.max = size;\n",
              "      div.appendChild(progress);\n",
              "      document.body.appendChild(div);\n",
              "\n",
              "      const buffers = [];\n",
              "      let downloaded = 0;\n",
              "\n",
              "      const channel = await google.colab.kernel.comms.open(id);\n",
              "      // Send a message to notify the kernel that we're ready.\n",
              "      channel.send({})\n",
              "\n",
              "      for await (const message of channel.messages) {\n",
              "        // Send a message to notify the kernel that we're ready.\n",
              "        channel.send({})\n",
              "        if (message.buffers) {\n",
              "          for (const buffer of message.buffers) {\n",
              "            buffers.push(buffer);\n",
              "            downloaded += buffer.byteLength;\n",
              "            progress.value = downloaded;\n",
              "          }\n",
              "        }\n",
              "      }\n",
              "      const blob = new Blob(buffers, {type: 'application/binary'});\n",
              "      const a = document.createElement('a');\n",
              "      a.href = window.URL.createObjectURL(blob);\n",
              "      a.download = filename;\n",
              "      div.appendChild(a);\n",
              "      a.click();\n",
              "      div.remove();\n",
              "    }\n",
              "  "
            ],
            "text/plain": [
              "<IPython.core.display.Javascript object>"
            ]
          },
          "metadata": {}
        },
        {
          "output_type": "display_data",
          "data": {
            "application/javascript": [
              "download(\"download_508abeed-30e8-4235-8baf-6fd651f68437\", \"pred_6.csv\", 24789)"
            ],
            "text/plain": [
              "<IPython.core.display.Javascript object>"
            ]
          },
          "metadata": {}
        }
      ]
    }
  ]
}